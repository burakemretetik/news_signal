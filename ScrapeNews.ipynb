{
  "nbformat": 4,
  "nbformat_minor": 0,
  "metadata": {
    "colab": {
      "provenance": [],
      "authorship_tag": "ABX9TyNRJd5dgvobg9WU4vodtb9i",
      "include_colab_link": true
    },
    "kernelspec": {
      "name": "python3",
      "display_name": "Python 3"
    },
    "language_info": {
      "name": "python"
    }
  },
  "cells": [
    {
      "cell_type": "markdown",
      "metadata": {
        "id": "view-in-github",
        "colab_type": "text"
      },
      "source": [
        "<a href=\"https://colab.research.google.com/github/burakemretetik/news_signal/blob/main/ScrapeNews.ipynb\" target=\"_parent\"><img src=\"https://colab.research.google.com/assets/colab-badge.svg\" alt=\"Open In Colab\"/></a>"
      ]
    },
    {
      "cell_type": "markdown",
      "source": [
        "# Scrape the News Homepage"
      ],
      "metadata": {
        "id": "QeEFWGaOthWy"
      }
    },
    {
      "cell_type": "code",
      "source": [
        "import requests\n",
        "import time\n",
        "import pandas as pd\n",
        "from datetime import datetime, timedelta\n",
        "from bs4 import BeautifulSoup\n",
        "import re\n",
        "import csv\n",
        "import json"
      ],
      "metadata": {
        "id": "-0IeeYIOqX8j"
      },
      "execution_count": 2,
      "outputs": []
    },
    {
      "cell_type": "code",
      "execution_count": 3,
      "metadata": {
        "id": "XfH62v0TSWKD"
      },
      "outputs": [],
      "source": [
        "def get_website_html(url):\n",
        "    \"\"\"\n",
        "    Fetches and returns the complete HTML content from a given URL.\n",
        "\n",
        "    Args:\n",
        "        url (str): The URL to fetch HTML from\n",
        "\n",
        "    Returns:\n",
        "        str: The HTML content of the page\n",
        "    \"\"\"\n",
        "    # Set realistic browser headers\n",
        "    headers = {\n",
        "        \"User-Agent\": \"Mozilla/5.0 (Windows NT 10.0; Win64; x64) AppleWebKit/537.36 (KHTML, like Gecko) Chrome/120.0.0.0 Safari/537.36\",\n",
        "        \"Accept\": \"text/html,application/xhtml+xml,application/xml;q=0.9,image/avif,image/webp,image/apng,*/*;q=0.8\",\n",
        "        \"Accept-Language\": \"tr-TR,tr;q=0.9,en-US;q=0.8,en;q=0.7\",\n",
        "        \"Referer\": \"https://www.haberturk.com/\",\n",
        "        \"Connection\": \"keep-alive\",\n",
        "        \"Cache-Control\": \"max-age=0\"\n",
        "    }\n",
        "\n",
        "    try:\n",
        "        print(f\"Fetching HTML from {url}...\")\n",
        "        response = requests.get(url, headers=headers, timeout=30)\n",
        "        response.raise_for_status()  # Raise an exception for HTTP errors\n",
        "\n",
        "        print(f\"Successfully retrieved HTML ({len(response.text)} characters)\")\n",
        "        return response.text\n",
        "    except requests.exceptions.RequestException as e:\n",
        "        print(f\"Error fetching the website: {e}\")\n",
        "        return None\n",
        "    except Exception as e:\n",
        "        print(f\"An unexpected error occurred: {e}\")\n",
        "        return None"
      ]
    },
    {
      "cell_type": "code",
      "source": [
        "haberturk = get_website_html(\"https://www.haberturk.com/ekonomi/\")\n",
        "trthaber = get_website_html(\"https://www.trthaber.com/haber/ekonomi/\")\n",
        "cnnhaber = get_website_html(\"https://www.cnnturk.com/ekonomi-haberleri/\")\n",
        "bloomberght = get_website_html(\"https://www.bloomberght.com/haberler/turkiye-ekonomisi/\")\n",
        "bigpara = get_website_html(\"https://bigpara.hurriyet.com.tr/haberler/ekonomi-haberleri/\")"
      ],
      "metadata": {
        "colab": {
          "base_uri": "https://localhost:8080/"
        },
        "id": "8Q1Lp0nYTSRe",
        "outputId": "a2ae9ff4-7c29-4841-fd2c-6c276ff4f220"
      },
      "execution_count": 4,
      "outputs": [
        {
          "output_type": "stream",
          "name": "stdout",
          "text": [
            "Fetching HTML from https://www.haberturk.com/ekonomi/...\n",
            "Successfully retrieved HTML (217346 characters)\n",
            "Fetching HTML from https://www.trthaber.com/haber/ekonomi/...\n",
            "Successfully retrieved HTML (103956 characters)\n",
            "Fetching HTML from https://www.cnnturk.com/ekonomi-haberleri/...\n",
            "Successfully retrieved HTML (224008 characters)\n",
            "Fetching HTML from https://www.bloomberght.com/haberler/turkiye-ekonomisi/...\n",
            "Successfully retrieved HTML (67537 characters)\n",
            "Fetching HTML from https://bigpara.hurriyet.com.tr/haberler/ekonomi-haberleri/...\n",
            "Successfully retrieved HTML (124055 characters)\n"
          ]
        }
      ]
    },
    {
      "cell_type": "markdown",
      "source": [
        "## Haber Türk"
      ],
      "metadata": {
        "id": "W8m9Jb_0gckz"
      }
    },
    {
      "cell_type": "code",
      "source": [
        "# Parse the HTML content\n",
        "soup = BeautifulSoup(haberturk, 'html.parser')\n",
        "\n",
        "# Find all <a> tags\n",
        "haberturk_links = soup.find_all('a', {'data-newscategory': 'Ekonomi'}, class_ = \"block gtm-tracker\" , href=True)\n",
        "\n",
        "# Filter links that match the specific pattern\n",
        "#filtered_links = [link for link in all_links if link['href'].startswith(\"/ekonomi/borsa/hisse\")]\n",
        "\n",
        "# Print the filtered links\n",
        "for link in haberturk_links:\n",
        "    print(link['href'])"
      ],
      "metadata": {
        "colab": {
          "base_uri": "https://localhost:8080/"
        },
        "id": "NMf2gPuegYrh",
        "outputId": "4b0376fa-0c37-45dd-cc85-55675b28e7e7"
      },
      "execution_count": 5,
      "outputs": [
        {
          "output_type": "stream",
          "name": "stdout",
          "text": [
            "/avrupa-buy-europe-3769666-ekonomi\n",
            "/turk-is-yoksulluk-siniri-75-bin-lirayi-gecti-3769774-ekonomi\n",
            "/turkiye-artik-yuksek-gelirli-3769733-ekonomi\n",
            "/kripto-paraciya-kira-vergisi-soku-3769617-ekonomi\n",
            "/tarihi-hat-37-milyon-yolcu-tasidi-3769763-ekonomi\n",
            "/2024-buyume-rakamlari-aciklandi-3769637-ekonomi\n",
            "/bakan-simsek-ten-buyume-degerlendirmesi-3769695-ekonomi\n",
            "/ocakta-issizlik-geriledi-3769669-ekonomi\n",
            "/tava-cigerin-fiyati-et-doneri-solladi-3769679-ekonomi\n",
            "/coinbasee-karsi-acilan-davanin-dusuruldu-3769590-ekonomi\n",
            "/kadin-isciyi-gece-calistirma-kurallari-3769462-ekonomi\n",
            "/kamu-iscisinin-zam-talebi-aciklandi-3769461-ekonomi\n",
            "/doviz-mevduatlarinda-15-yilin-en-hizli-artisi-3769434-ekonomi\n",
            "/skype-mayis-da-kapanacak-3769887-teknoloji\n",
            "/borsa-gunu-dususle-tamamladi-3769871-ekonomi\n",
            "/piyasa-raporu-28-subat-2025-cuma-borsa-dolar-altin-ve-kripto-paralarda-son-durum-fai-3769865-ekonomi\n",
            "/turkiye-nin-kadin-girisimcisi-yarismasi-nda-en-basarili-kadin-girisimciler-odullerini-aldi-3769846-ekonomi\n",
            "/turkmen-gazi-yarin-turkiye-ye-geliyor-3769826-ekonomi\n",
            "/istanbul-havalimaninda-ramazan-koyu-kuruldu-3769802-ekonomi\n",
            "/cimsadan-2024-yilinda-282-milyar-tl-ciro-3769779-ekonomi\n",
            "/hangi-semtte-aidat-ne-kadar-3769778-ekonomi\n",
            "/luxin-turkiye-10-13-mart-ta-yapilacak-3769777-ekonomi\n",
            "/toyota-hidrojen-teknolojisinde-3-uncu-seviyeye-geciyor-3767543-ekonomi\n",
            "/daimler-truck-kendi-secim-kampanyasini-baslatti-3764510-ekonomi\n",
            "/vw-nin-ispanyol-seat-tan-kuzeninden-ab-ye-rest-3763995-ekonomi\n",
            "/araclari-yesil-enerji-ile-sarj-edecek-3763387-ekonomi\n",
            "/burgan-bank-on-dijital-bankacilik-genel-mudur-yardimcisi-halil-ozcan-on-dijital-bankacilik-ile-5-yilda-5-milyon-musteriye-ulasacagiz-3769766-ekonomi\n",
            "/teknofestte-insansiz-kara-araci-yarismasi-3769749-teknoloji\n",
            "/mars-gayrimenkul-yonetim-kurulu-baskani-hakan-bucak-konut-fiyatlarinin-mart-nisanda-en-dibi-gorecegi-3769606-ekonomi\n",
            "/cumhurbaskani-yardimcisi-cevdet-yilmaz-enflasyonu-yukselten-temelde-hizmet-sektoru-3769612-ekonomi\n",
            "/abd-baskani-trump-tan-tarife-aciklamasi-4-mart-ta-planlandigi-gibi-yururluge-girecek-3769608-ekonomi\n",
            "/spk-dan-4-sirketin-borclanma-araci-ihracina-onay-3769593-ekonomi\n",
            "/sisecam-in-2024-te-net-satislari-186-milyar-lira-oldu-3769541-ekonomi\n",
            "/imf-baskani-georgieva-ekonomi-politikalarina-iliskin-belirsizlik-yuksek-3769530-ekonomi\n",
            "/piyasa-raporu-27-subat-2025-persembe-borsa-dolar-altin-ve-kripto-paralarda-son-durum-fai-3769489-ekonomi\n",
            "/gelecegin-bilim-insanlari-uluslararasi-cocuk-bilim-yarismasi-nda-bulusuyor-3769474-teknoloji\n",
            "/dunya-sivil-toplum-kuruluslari-gunune-ozel-sepette-iyilik-3769475-teknoloji\n",
            "/315-milyon-dolarlik-teknoloji-yatirimi-3769049-teknoloji\n",
            "/tamamlayici-saglik-sigortasinin-avantajlari-artik-biliniyor--3769467-ekonomi\n",
            "/istanbulda-site-aidatlari-kiralari-gecti-yeni-duzenleme-ne-getirecek-3769449-ekonomi\n",
            "/turkiye-nin-ilk-ulusal-havacilik-srasi-tamamlandi-3769419-ekonomi\n",
            "/kkm-de-402-milyar-liralik-dusus-3769429-ekonomi\n",
            "/tcmb-rezervlerinde-gerileme-3769428-ekonomi\n",
            "/trump-neden-ukrayna-daki-nadir-elementleri-istiyor-3769306-ekonomi\n",
            "/turkiye-nin-ilk-luks-tasarim-outlet-merkezi-2026da-istanbulda-aciliyor-3769425-ekonomi\n",
            "/temiz-sanayi-anlasmasi-onemli-bir-firsat-sunuyor-3769396-ekonomi\n",
            "/carrefoursa-dan-kucuk-olcekli-kiyi-balikciligini-korumak-icin-cagri-3769385-ekonomi\n",
            "/online-bireysel-kurslara-kdv-istisnasi-3769352-ekonomi\n",
            "/enerjisa-nin-faaliyet-geliri-41-milyar-lirayi-asti-3769345-ekonomi\n",
            "/ebrd-turkiye-icin-buyume-tahminini-degistirmedi-3769342-ekonomi\n",
            "/ekonomik-guven-subatta-geriledi-3769338-ekonomi\n"
          ]
        }
      ]
    },
    {
      "cell_type": "markdown",
      "source": [
        "## TRT Haber"
      ],
      "metadata": {
        "id": "92ITmuQAq1cY"
      }
    },
    {
      "cell_type": "code",
      "source": [
        "# Parse the HTML content\n",
        "soup = BeautifulSoup(trthaber, 'html.parser')\n",
        "\n",
        "# Find all <a> tags\n",
        "all_links = soup.find_all('a', class_ = \"site-url\", href=True)\n",
        "\n",
        "# Filter links that match the specific pattern\n",
        "trthaber_links = [link for link in all_links if link['href'].startswith(\"https://www.trthaber.com/haber/ekonomi/\") and link['href'].endswith(\".html\")]\n",
        "\n",
        "for link in trthaber_links:\n",
        "    print(link['href'])"
      ],
      "metadata": {
        "colab": {
          "base_uri": "https://localhost:8080/"
        },
        "id": "FvwNvLOrq4VQ",
        "outputId": "a11a62df-26f5-4744-8788-6e3ea790f0b2"
      },
      "execution_count": 6,
      "outputs": [
        {
          "output_type": "stream",
          "name": "stdout",
          "text": [
            "https://www.trthaber.com/haber/ekonomi/ciftcilere-43-milyar-lira-destek-odemesi-bugun-yapilacak-899285.html\n",
            "https://www.trthaber.com/haber/ekonomi/ciftcilere-43-milyar-lira-destek-odemesi-bugun-yapilacak-899285.html\n",
            "https://www.trthaber.com/haber/ekonomi/ciftcilere-43-milyar-lira-destek-odemesi-bugun-yapilacak-899285.html\n",
            "https://www.trthaber.com/haber/ekonomi/ciftcilere-43-milyar-lira-destek-odemesi-bugun-yapilacak-899285.html\n",
            "https://www.trthaber.com/haber/ekonomi/ciftcilere-43-milyar-lira-destek-odemesi-bugun-yapilacak-899285.html\n",
            "https://www.trthaber.com/haber/ekonomi/ciftcilere-43-milyar-lira-destek-odemesi-bugun-yapilacak-899285.html\n",
            "https://www.trthaber.com/haber/ekonomi/cevdet-yilmaz-ic-talepte-saglikli-toparlanma-gozlenmektedir-899278.html\n",
            "https://www.trthaber.com/haber/ekonomi/cevdet-yilmaz-ic-talepte-saglikli-toparlanma-gozlenmektedir-899278.html\n",
            "https://www.trthaber.com/haber/ekonomi/cevdet-yilmaz-ic-talepte-saglikli-toparlanma-gozlenmektedir-899278.html\n",
            "https://www.trthaber.com/haber/ekonomi/daskta-hedef-sigortalilik-oranini-yuzde-100e-cikarmak-899271.html\n",
            "https://www.trthaber.com/haber/ekonomi/daskta-hedef-sigortalilik-oranini-yuzde-100e-cikarmak-899271.html\n",
            "https://www.trthaber.com/haber/ekonomi/daskta-hedef-sigortalilik-oranini-yuzde-100e-cikarmak-899271.html\n",
            "https://www.trthaber.com/haber/ekonomi/bakan-bolat-ulke-ekonomisi-45-yildir-kesintisiz-buyume-performansi-gosterdi-899273.html\n",
            "https://www.trthaber.com/haber/ekonomi/bakan-bolat-ulke-ekonomisi-45-yildir-kesintisiz-buyume-performansi-gosterdi-899273.html\n",
            "https://www.trthaber.com/haber/ekonomi/bakan-bolat-ulke-ekonomisi-45-yildir-kesintisiz-buyume-performansi-gosterdi-899273.html\n",
            "https://www.trthaber.com/haber/ekonomi/turkiye-oecdde-en-hizli-buyuyen-iki-ekonomiden-biri-oldu-899270.html\n",
            "https://www.trthaber.com/haber/ekonomi/turkiye-oecdde-en-hizli-buyuyen-iki-ekonomiden-biri-oldu-899270.html\n",
            "https://www.trthaber.com/haber/ekonomi/turkiye-oecdde-en-hizli-buyuyen-iki-ekonomiden-biri-oldu-899270.html\n",
            "https://www.trthaber.com/haber/ekonomi/kira-geliri-elde-edenler-icin-beyan-suresi-yarin-basliyor-899256.html\n",
            "https://www.trthaber.com/haber/ekonomi/kira-geliri-elde-edenler-icin-beyan-suresi-yarin-basliyor-899256.html\n",
            "https://www.trthaber.com/haber/ekonomi/kira-geliri-elde-edenler-icin-beyan-suresi-yarin-basliyor-899256.html\n",
            "https://www.trthaber.com/haber/ekonomi/turkmen-gazi-turkiyeye-geliyor-899255.html\n",
            "https://www.trthaber.com/haber/ekonomi/turkmen-gazi-turkiyeye-geliyor-899255.html\n",
            "https://www.trthaber.com/haber/ekonomi/turkmen-gazi-turkiyeye-geliyor-899255.html\n",
            "https://www.trthaber.com/haber/ekonomi/bakan-isikhan-issizlik-oranimiz-tek-hanede-seyretmeye-devam-ediyor-899254.html\n",
            "https://www.trthaber.com/haber/ekonomi/bakan-isikhan-issizlik-oranimiz-tek-hanede-seyretmeye-devam-ediyor-899254.html\n",
            "https://www.trthaber.com/haber/ekonomi/bakan-isikhan-issizlik-oranimiz-tek-hanede-seyretmeye-devam-ediyor-899254.html\n",
            "https://www.trthaber.com/haber/ekonomi/kosgebden-deprem-bolgesindeki-kobilere-37-milyar-liralik-destek-899253.html\n",
            "https://www.trthaber.com/haber/ekonomi/kosgebden-deprem-bolgesindeki-kobilere-37-milyar-liralik-destek-899253.html\n",
            "https://www.trthaber.com/haber/ekonomi/kosgebden-deprem-bolgesindeki-kobilere-37-milyar-liralik-destek-899253.html\n",
            "https://www.trthaber.com/haber/ekonomi/bakan-simsek-yapisal-donusumu-hizlandiracak-politikalari-surdurecegiz-899251.html\n",
            "https://www.trthaber.com/haber/ekonomi/bakan-simsek-yapisal-donusumu-hizlandiracak-politikalari-surdurecegiz-899251.html\n",
            "https://www.trthaber.com/haber/ekonomi/bakan-simsek-yapisal-donusumu-hizlandiracak-politikalari-surdurecegiz-899251.html\n",
            "https://www.trthaber.com/haber/ekonomi/dogal-gazda-mart-tarifesinde-degisiklige-gidilmedi-899248.html\n",
            "https://www.trthaber.com/haber/ekonomi/dogal-gazda-mart-tarifesinde-degisiklige-gidilmedi-899248.html\n",
            "https://www.trthaber.com/haber/ekonomi/dogal-gazda-mart-tarifesinde-degisiklige-gidilmedi-899248.html\n",
            "https://www.trthaber.com/haber/ekonomi/kuresel-piyasalar-negatif-seyrediyor-899243.html\n",
            "https://www.trthaber.com/haber/ekonomi/kuresel-piyasalar-negatif-seyrediyor-899243.html\n",
            "https://www.trthaber.com/haber/ekonomi/kuresel-piyasalar-negatif-seyrediyor-899243.html\n",
            "https://www.trthaber.com/haber/ekonomi/brent-petrolun-varili-7303-dolardan-islem-goruyor-899241.html\n",
            "https://www.trthaber.com/haber/ekonomi/brent-petrolun-varili-7303-dolardan-islem-goruyor-899241.html\n",
            "https://www.trthaber.com/haber/ekonomi/brent-petrolun-varili-7303-dolardan-islem-goruyor-899241.html\n",
            "https://www.trthaber.com/haber/ekonomi/issizlik-21-aydir-tek-hanede-899239.html\n",
            "https://www.trthaber.com/haber/ekonomi/issizlik-21-aydir-tek-hanede-899239.html\n",
            "https://www.trthaber.com/haber/ekonomi/issizlik-21-aydir-tek-hanede-899239.html\n",
            "https://www.trthaber.com/haber/ekonomi/turkiye-ekonomisi-2024te-yuzde-32-buyudu-899238.html\n",
            "https://www.trthaber.com/haber/ekonomi/turkiye-ekonomisi-2024te-yuzde-32-buyudu-899238.html\n",
            "https://www.trthaber.com/haber/ekonomi/turkiye-ekonomisi-2024te-yuzde-32-buyudu-899238.html\n"
          ]
        }
      ]
    },
    {
      "cell_type": "markdown",
      "source": [
        "## CNN Haber"
      ],
      "metadata": {
        "id": "ld2Q390YgPSS"
      }
    },
    {
      "cell_type": "code",
      "source": [
        "# Parse the HTML content\n",
        "soup = BeautifulSoup(cnnhaber, 'html.parser')\n",
        "\n",
        "# Find all <a> tags\n",
        "all_links = soup.find_all('a', class_=\"navigate\", href=True)\n",
        "\n",
        "# Filter links that match the specific pattern\n",
        "cnnhaber_links = [link for link in all_links if link['href'].startswith(\"/ekonomi/\")]\n",
        "\n",
        "# Print the filtered links\n",
        "for link in cnnhaber_links:\n",
        "    print(link['href'])"
      ],
      "metadata": {
        "colab": {
          "base_uri": "https://localhost:8080/"
        },
        "id": "HAv65Gp2e8mm",
        "outputId": "9779bd81-607c-41fe-bfb5-4ad5e9349717"
      },
      "execution_count": 7,
      "outputs": [
        {
          "output_type": "stream",
          "name": "stdout",
          "text": [
            "/ekonomi/galeri/son-dakika-emekli-haberi-2024-yilinda-rakam-100-bine-dayandi-o-emekli-maaslari-iptal-ediliyor-hizmet-dokumunuzu-kontrol-edin-2247644\n",
            "/ekonomi/turkmen-gazi-yarin-turkiyede-2247608\n",
            "/ekonomi/bakan-isikhan-is-gucu-verilerini-degerlendirdi-2247601\n",
            "/ekonomi/bakan-simsek-2024-yili-buyume-verilerini-degerlendirdi-iyilesen-guven-ekonomiye-olumlu-etkileyecek-2247593\n",
            "/ekonomi/galeri/ev-sahipleri-dikkat-1-martta-yeni-donem-basliyor-kirada-33-bin-lira-istisnasi-2247551\n",
            "/ekonomi/son-dakika-haberi-issizlik-verileri-son-12-yilin-en-dusuk-seviyesine-geriledi-2247538\n",
            "/ekonomi/son-dakika-haberi-turkiye-ekonomisi-2024te-yuzde-3-2-buyudu-2247531\n",
            "/ekonomi/borsa-istanbul-haftanin-son-islem-gunune-dususle-basladi-28-subat-2025-2247529\n",
            "/ekonomi/kuresel-piyasalar-negatif-seyrediyor-trumpin-tarifeleri-ve-enflasyon-endiseleri-piyasalari-sarsiyor-2247524\n",
            "/ekonomi/bakan-kacir-turkiyenin-ingiltere-ve-avrupaya-katacaklari-cok-fazla-2247493\n",
            "/ekonomi/son-dakika-haberi-turkiye-ekonomisi-2024te-yuzde-3-2-buyudu-2247531\n",
            "/ekonomi/atmlerde-yuzu-gorunmeyene-para-yok-ayrica-patates-hat-onlemi-geliyor-2246280\n",
            "/ekonomi/galeri/son-dakika-emekli-haberi-emeklilik-hesabi-yapanlar-dikkat-bayram-ikramiyesi-icin-son-gun-uyarisi-2247492\n",
            "/ekonomi/altin/son-dakika-yatirimcisi-yakindan-takip-ediyor-altinda-ibre-tersine-mi-dondu-2247475\n",
            "/ekonomi/galeri/bim-28-subat-2025-aktuel-urunler-katalogu-bu-cuma-bime-neler-geliyor-2245315\n",
            "/ekonomi/son-dakika-bugunku-super-loto-cekilisi-sonuclari-belli-oldu-27-subat-2025-super-loto-bilet-sonucu-sorgulama-ekrani-2247399\n",
            "/ekonomi/son-dakika-borsa-gunu-yukselisle-tamamladi-2247254\n",
            "/ekonomi/arastirma-sonucu-kobiler-dijital-donusumu-hizlandirdi-2247246\n",
            "/ekonomi/abden-abdye-gumruk-tarifesi-uyarisi-2247205\n",
            "/ekonomi/abd-buyume-rakamlari-belli-oldu-2247198\n",
            "/ekonomi/ticaret-bakanligi-e-kolay-ihracat-platformunu-yarin-tanitacak-2247196\n",
            "/ekonomi/kur-korumali-mevduatta-dusus-suruyor-kkm-bakiyesi-879-milyar-tlye-geriledi-2247190\n",
            "/ekonomi/2025-engelli-arac-otv-limiti-ne-kadar-oldu-otv-muafiyeti-ile-alinabilecek-otomobillerin-listesi-2220903\n",
            "/ekonomi/ihracatci-kadin-girisimcilere-yesil-pasaport-kolayligi-cagrisi-2247154\n",
            "/ekonomi/londra-borsasinda-gong-turkiye-varlik-fonunun-rekor-taleple-tamamlanan-sukuk-ihraci-icin-caldi-2247147\n",
            "/ekonomi/merkez-bankasi-guncel-rezervlerini-acikladi-2247123\n",
            "/ekonomi/euro-bolgesinde-ekonomik-guven-subat-2025te-yukseldi-2247111\n",
            "/ekonomi/turkcellin-30-yil-cekilisinin-kazananlari-odullerine-kavustu-2247069\n",
            "/ekonomi/ticaret-bakanligi-ramazan-oncesi-firin-ve-market-denetimlerine-devam-ediyor-2247061\n",
            "/ekonomi/galeri/emekli-promosyonu-2025-subat-guncel-emekli-promosyonlari-en-yuksek-odeme-yapan-bankalar-hangileri-2247002\n",
            "/ekonomi/turkiye-enerji-uretimini-artirarak-ithalati-azaltti-2246996\n",
            "/ekonomi/motorine-buyuk-indirim-akaryakitta-tabela-bir-kez-daha-degisti-2246955\n"
          ]
        }
      ]
    },
    {
      "cell_type": "markdown",
      "source": [
        "## Bloomberg HT"
      ],
      "metadata": {
        "id": "87gxL4bJrFzD"
      }
    },
    {
      "cell_type": "code",
      "source": [
        "# Parse the HTML content\n",
        "soup = BeautifulSoup(bloomberght, 'html.parser')\n",
        "\n",
        "# Find all <a> tags\n",
        "all_links = soup.find_all('a', href=True)\n",
        "\n",
        "# Filter links ending with a number\n",
        "bloomberght_links = [link['href'] for link in all_links if re.search(r'\\d$', link['href'])]\n",
        "\n",
        "# Print the filtered links\n",
        "for link in bloomberght_links:\n",
        "    print(link)"
      ],
      "metadata": {
        "colab": {
          "base_uri": "https://localhost:8080/"
        },
        "id": "1TwTn0ztrFa1",
        "outputId": "5562c8a1-84db-4807-af5b-c474469d86d3"
      },
      "execution_count": 8,
      "outputs": [
        {
          "output_type": "stream",
          "name": "stdout",
          "text": [
            "/cumhurbaskani-yardimcisi-yilmaz-londra-da-yabanci-yatirimcilarla-bulustu-3742819\n",
            "/kira-geliri-elde-edenler-icin-beyan-suresi-yarin-basliyor-3742811\n",
            "/spkden-4-sirketin-borclanma-araci-ihracina-onay-3742749\n",
            "/cevdet-yilmaz-londra-da-uluslararasi-yatirimcilarla-bir-araya-geldi-3742740\n",
            "/doviz-mevduatlarinda-1-5-yilin-en-hizli-artisi-3742705\n",
            "/arac-muayenelerinde-ucretsiz-cagir-merkezi-geliyor-3742492\n",
            "/yapi-kredi-yatirim-dan-2025-hisse-strateji-raporu-3742403\n",
            "/arac-muayene-istasyonlarinin-ozellestirme-ihaleleri-basladi-3742402\n",
            "/aselsan-bmc-ile-yeni-sozlesme-imzaladi-3742401\n",
            "/yapi-kredi-dolar-cinsi-tahvil-ihrac-ediyor-3742361\n",
            "/sektorel-guven-hizmet-ve-insaatta-azaldi-3742328\n",
            "/ocak-ayinda-kredi-karti-sayisi-yuzde-9-artti-3742231\n",
            "/turkiye-de-tasarruf-yapanlarin-ilk-tercihi-altin-3742227\n",
            "/finansal-hizmetler-guven-endeksi-yukseldi-3742215\n",
            "/cevdet-yilmaz-dan-merkez-bankasi-rezervlerine-iliskin-aciklama-3742162\n",
            "/turkiye-deki-startup-yatirimlari-rekor-seviyeye-ulasti-3742136\n",
            "/yabanci-para-mevduatlarda-artis-suruyor-3742134\n",
            "/turkiye-katar-ile-isbirligi-protokolu-imzaladi-3742117\n",
            "/turkiye-sigorta-ve-ptt-as-guclerini-birlestirdi-3742110\n",
            "/turkiye-nin-yurt-disi-varliklarinda-yeni-zirve-3742104\n",
            "/mia-teknoloji-cinli-ortagi-ile-turkiye-de-yatirima-gidecek-3742039\n",
            "/orta-gelirli-vatandasa-yonelik-konut-kampanyasi-3741908\n",
            "/ziraat-bankasinin-aktif-buyuklugu-5-4-trilyon-tlyi-asti-3741900\n",
            "/ozel-sektorun-kredi-borcu-artti-3741877\n",
            "/konut-fiyat-endeksi-ocak-ta-reel-olarak-yuzde-7-2-azaldi-3741874\n",
            "/julius-baer-turk-hisselerini-tercih-etmiyor-3741864\n",
            "/asya-altyapi-yatirim-bankasi-ndan-turkiye-ye-5-milyar-dolar-finansman-3741810\n",
            "/bloomberg-ht-tuketici-guven-on-endeksi-subat-ta-tekrar-yukselise-gecti-3741788\n",
            "/tcmb-baskani-fatih-karahan-tcmb-nin-mevcut-faiz-indirim-surecinde-ortaya-cikabilecek-risklere-karsi-harekete-3741761\n",
            "/calisan-annelere-bakici-destegi-artirildi-3741758\n",
            "/tmsf-den-kayyum-aciklamasi-3741757\n",
            "/turkiye-nin-otomotiv-ihracati-yeni-yila-rekorla-basladi-3741756\n",
            "/ticaret-bakani-bolat-2028-ihracat-hedefini-acikladi-3741749\n",
            "/7-baslikla-gecen-hafta-3741740\n",
            "/bakan-simsek-munih-te-yatirimcilarla-bulusacak-3741653\n",
            "/sabanci-8-sirketiyle-cdp-kuresel-liderler-listesinde-yer-aldi-3741576\n",
            "/doviz-mevduatlarinda-yerel-secimlerden-beri-en-hizli-artis-3741568\n",
            "/kkm-hesap-bakiyelerindeki-dusus-devam-ediyor-3741565\n",
            "/turkiye-perakende-sektoru-buyuklugunun-2025-te-yuzde-35-40-buyuyerek-13-trilyon-lirayi-asmasi-bekleniyor-3741561\n",
            "/tusiad-baskani-turan-enflasyonla-mucadelenin-hizlanmasi-gerekiyor-3741548\n",
            "/fitch-turk-katilim-bankalarin-pazar-paylari-geriledi-3741444\n",
            "/tusiadturan-ticaret-savaslarindan-avantajli-cikabiliriz-3741441\n",
            "/baykar-fabrika-ortakligi-ile-endonezya-ya-giriyor-3741436\n",
            "/tcmbkarahan-siki-para-politikasi-durusu-surdurulecek-3741399\n",
            "/jpmorgan-turk-sirket-tahvilleri-icin-2024e-gore-daha-iyimser-3741362\n",
            "/trumpin-celik-ve-aluminyum-vergileri-turkiyeye-etkisi-ne-olacak-3741322\n",
            "/kalyon-gunes-teknolojileri-nin-halka-arz-buyuklugu-belli-oldu-3741295\n",
            "/sisecam-italya-daki-tesisinde-bazi-hatlari-tamire-aliyor-3741165\n"
          ]
        }
      ]
    },
    {
      "cell_type": "markdown",
      "source": [
        "## Bigpara"
      ],
      "metadata": {
        "id": "NLq8YbpHtsL1"
      }
    },
    {
      "cell_type": "code",
      "source": [
        "# Parse the HTML content\n",
        "soup = BeautifulSoup(bigpara, 'html.parser')\n",
        "\n",
        "# Find all <a> tags\n",
        "all_links = soup.find_all('a', {'data-query-param': \"bpc\", 'href': True})\n",
        "\n",
        "# Filter links ending with a number\n",
        "bigpara_links = [link for link in all_links if link['href'].startswith(\"/haberler/ekonomi-haberleri/\")]\n",
        "\n",
        "# Print the filtered links\n",
        "for link in bigpara_links:\n",
        "    print(link['href'])"
      ],
      "metadata": {
        "colab": {
          "base_uri": "https://localhost:8080/"
        },
        "id": "wlTubYIetuhp",
        "outputId": "9381eaf7-fce2-46cb-8057-e5f27a3e61a2"
      },
      "execution_count": 9,
      "outputs": [
        {
          "output_type": "stream",
          "name": "stdout",
          "text": [
            "/haberler/ekonomi-haberleri/guclu-buyuyen-turkcellden-guclu-yatirim_ID1608314/\n",
            "/haberler/ekonomi-haberleri/cumhurbaskani-yardimcisi-yilmaz-toplumsal-refahi-artirmayi-hedefliyoruz_ID1608307/\n",
            "/haberler/ekonomi-haberleri/bakan-bolat-ekonomi-18-ceyrektir-kesintisiz-buyuyor_ID1608302/\n",
            "/haberler/ekonomi-haberleri/turkiye-oecdnin-en-hizli-buyuyen-iki-ekonomisinden-biri-oldu_ID1608300/\n",
            "/haberler/ekonomi-haberleri/ito-baskani-avdagic-buyume-kompozisyonu-kalici-refaha-ulastiracak_ID1608298/\n",
            "/haberler/ekonomi-haberleri/bakan-isikhan-issizlik-yuzde-8-4-olarak-gerceklesti_ID1608295/\n",
            "/haberler/ekonomi-haberleri/otomobil-devi-stellantis-karini-acikladi_ID1608294/\n",
            "/haberler/ekonomi-haberleri/bakan-simsekten-buyume-yorumu-temellerimizi-saglamlastirdik_ID1608291/\n",
            "/haberler/ekonomi-haberleri/son-dakika-issizlik-rakamlari-belli-oldu_ID1608279/\n",
            "/haberler/ekonomi-haberleri/son-dakika-turkiye-ekonomisi-yuzde-buyudu_ID1608278/\n",
            "/haberler/ekonomi-haberleri/imf-baskanindan-ekonomi-icin-korkutan-aciklama_ID1608263/\n",
            "/haberler/ekonomi-haberleri/kanada-abd-tarifelerine-boyun-egmeyecek_ID1608260/\n",
            "/haberler/ekonomi-haberleri/konutta-fiyat-bilmecesi-hatali-fiyat-magdur-ediyor_ID1608258/\n",
            "/haberler/ekonomi-haberleri/33-bin-lirayi-asanlar-beyanname-verecek-kira-gelirinde-beyan-donemi_ID1608257/\n",
            "/haberler/ekonomi-haberleri/tvfnin-sukuk-ihracina-londrada-gong-toreni_ID1608256/\n",
            "/haberler/ekonomi-haberleri/sazan-sarmali-gayrimenkule-sicradi_ID1608255/\n",
            "/haberler/ekonomi-haberleri/kultur-ve-turizm-bakan-yardimcisi-isyan-etti-8-bin-kayit-disi-turizm-tesisi-var_ID1608254/\n",
            "/haberler/ekonomi-haberleri/tuketim-disaridan-eve-kaydi_ID1608253/\n",
            "/haberler/ekonomi-haberleri/en-belirgin-yavaslama-lukste_ID1608252/\n",
            "/haberler/ekonomi-haberleri/kamu-iscisi-icin-zam-talebi-belli-oldu_ID1608251/\n",
            "/haberler/ekonomi-haberleri/30uncu-yilinda-togg-hediye-etti_ID1608250/\n",
            "/haberler/ekonomi-haberleri/ilk-luks-outlet-2026-yazini-bekliyor_ID1608249/\n",
            "/haberler/ekonomi-haberleri/arastirma-sonucu-kobiler-dijital-donusumu-hizlandirdi_ID1608248/\n",
            "/haberler/ekonomi-haberleri/abd-buyume-rakamlari-aciklandi_ID1608244/\n"
          ]
        }
      ]
    },
    {
      "cell_type": "markdown",
      "source": [
        "# Send News to the LLM and Get a Response"
      ],
      "metadata": {
        "id": "TiKUebtCtafa"
      }
    },
    {
      "cell_type": "code",
      "source": [
        "# Parse the HTML content\n",
        "soup = BeautifulSoup(bigpara, 'html.parser')\n",
        "\n",
        "news_data = []\n",
        "for ul_tag in soup.find_all('ul'):\n",
        "    # Extract href\n",
        "    href_tag = ul_tag.find('a', href=True)\n",
        "    href = href_tag['href'] if href_tag else None  # Handle if href not found\n",
        "    #href = href[28:-11] if href_tag else None  # Handle if href not found\n",
        "    href = \"https://bigpara.hurriyet.com.tr\" + href if href else None  # Handle if href not found\n",
        "\n",
        "    # Extract date and time\n",
        "    date_tag = ul_tag.find('li', class_='cell012')\n",
        "    date = date_tag.text if date_tag else None  # Handle if date not found\n",
        "\n",
        "    time_tag = ul_tag.find('li', class_='cell024')\n",
        "    time = time_tag.text if time_tag else None  # Handle if time not found\n",
        "\n",
        "    if href and date and time:  # Append only if all elements found\n",
        "        news_data.append([href, date, time])\n",
        "\n",
        "news_data"
      ],
      "metadata": {
        "colab": {
          "base_uri": "https://localhost:8080/"
        },
        "id": "RZCPzExEwd4p",
        "outputId": "cfc582d6-f810-4a8c-e392-889936c15a3a"
      },
      "execution_count": 58,
      "outputs": [
        {
          "output_type": "execute_result",
          "data": {
            "text/plain": [
              "[['https://bigpara.hurriyet.com.tr/haberler/ekonomi-haberleri/guclu-buyuyen-turkcellden-guclu-yatirim_ID1608314/',\n",
              "  '28.2.2025',\n",
              "  '21:42'],\n",
              " ['https://bigpara.hurriyet.com.tr/haberler/ekonomi-haberleri/cumhurbaskani-yardimcisi-yilmaz-toplumsal-refahi-artirmayi-hedefliyoruz_ID1608307/',\n",
              "  '28.2.2025',\n",
              "  '14:43'],\n",
              " ['https://bigpara.hurriyet.com.tr/haberler/ekonomi-haberleri/bakan-bolat-ekonomi-18-ceyrektir-kesintisiz-buyuyor_ID1608302/',\n",
              "  '28.2.2025',\n",
              "  '13:45'],\n",
              " ['https://bigpara.hurriyet.com.tr/haberler/ekonomi-haberleri/turkiye-oecdnin-en-hizli-buyuyen-iki-ekonomisinden-biri-oldu_ID1608300/',\n",
              "  '28.2.2025',\n",
              "  '13:08'],\n",
              " ['https://bigpara.hurriyet.com.tr/haberler/ekonomi-haberleri/ito-baskani-avdagic-buyume-kompozisyonu-kalici-refaha-ulastiracak_ID1608298/',\n",
              "  '28.2.2025',\n",
              "  '12:50'],\n",
              " ['https://bigpara.hurriyet.com.tr/haberler/ekonomi-haberleri/bakan-isikhan-issizlik-yuzde-8-4-olarak-gerceklesti_ID1608295/',\n",
              "  '28.2.2025',\n",
              "  '12:11'],\n",
              " ['https://bigpara.hurriyet.com.tr/haberler/ekonomi-haberleri/otomobil-devi-stellantis-karini-acikladi_ID1608294/',\n",
              "  '28.2.2025',\n",
              "  '11:58'],\n",
              " ['https://bigpara.hurriyet.com.tr/haberler/ekonomi-haberleri/bakan-simsekten-buyume-yorumu-temellerimizi-saglamlastirdik_ID1608291/',\n",
              "  '28.2.2025',\n",
              "  '11:10'],\n",
              " ['https://bigpara.hurriyet.com.tr/ekonomi-haberleri/galeri-fidye-ne-kadar-2025-ne-zaman-verilir-fidye-kimlere-verilir-kimlere-verilmez-diyanet-fidye-ve-fitre-2025-bedeli_ID1608282/',\n",
              "  '28.2.2025',\n",
              "  '17:12'],\n",
              " ['https://bigpara.hurriyet.com.tr/haberler/ekonomi-haberleri/son-dakika-issizlik-rakamlari-belli-oldu_ID1608279/',\n",
              "  '28.2.2025',\n",
              "  '10:00'],\n",
              " ['https://bigpara.hurriyet.com.tr/haberler/ekonomi-haberleri/son-dakika-turkiye-ekonomisi-yuzde-buyudu_ID1608278/',\n",
              "  '28.2.2025',\n",
              "  '10:00'],\n",
              " ['https://bigpara.hurriyet.com.tr/haberler/ekonomi-haberleri/imf-baskanindan-ekonomi-icin-korkutan-aciklama_ID1608263/',\n",
              "  '28.2.2025',\n",
              "  '07:02'],\n",
              " ['https://bigpara.hurriyet.com.tr/haberler/ekonomi-haberleri/kanada-abd-tarifelerine-boyun-egmeyecek_ID1608260/',\n",
              "  '28.2.2025',\n",
              "  '06:48'],\n",
              " ['https://bigpara.hurriyet.com.tr/haberler/ekonomi-haberleri/konutta-fiyat-bilmecesi-hatali-fiyat-magdur-ediyor_ID1608258/',\n",
              "  '28.2.2025',\n",
              "  '07:00'],\n",
              " ['https://bigpara.hurriyet.com.tr/haberler/ekonomi-haberleri/33-bin-lirayi-asanlar-beyanname-verecek-kira-gelirinde-beyan-donemi_ID1608257/',\n",
              "  '28.2.2025',\n",
              "  '07:00'],\n",
              " ['https://bigpara.hurriyet.com.tr/haberler/ekonomi-haberleri/tvfnin-sukuk-ihracina-londrada-gong-toreni_ID1608256/',\n",
              "  '28.2.2025',\n",
              "  '07:00'],\n",
              " ['https://bigpara.hurriyet.com.tr/haberler/ekonomi-haberleri/sazan-sarmali-gayrimenkule-sicradi_ID1608255/',\n",
              "  '28.2.2025',\n",
              "  '07:00'],\n",
              " ['https://bigpara.hurriyet.com.tr/haberler/ekonomi-haberleri/kultur-ve-turizm-bakan-yardimcisi-isyan-etti-8-bin-kayit-disi-turizm-tesisi-var_ID1608254/',\n",
              "  '28.2.2025',\n",
              "  '07:00'],\n",
              " ['https://bigpara.hurriyet.com.tr/haberler/ekonomi-haberleri/tuketim-disaridan-eve-kaydi_ID1608253/',\n",
              "  '28.2.2025',\n",
              "  '04:00'],\n",
              " ['https://bigpara.hurriyet.com.tr/haberler/ekonomi-haberleri/en-belirgin-yavaslama-lukste_ID1608252/',\n",
              "  '28.2.2025',\n",
              "  '07:00'],\n",
              " ['https://bigpara.hurriyet.com.tr/haberler/ekonomi-haberleri/kamu-iscisi-icin-zam-talebi-belli-oldu_ID1608251/',\n",
              "  '28.2.2025',\n",
              "  '07:00'],\n",
              " ['https://bigpara.hurriyet.com.tr/haberler/ekonomi-haberleri/30uncu-yilinda-togg-hediye-etti_ID1608250/',\n",
              "  '28.2.2025',\n",
              "  '07:00'],\n",
              " ['https://bigpara.hurriyet.com.tr/haberler/ekonomi-haberleri/ilk-luks-outlet-2026-yazini-bekliyor_ID1608249/',\n",
              "  '28.2.2025',\n",
              "  '07:00'],\n",
              " ['https://bigpara.hurriyet.com.tr/haberler/ekonomi-haberleri/arastirma-sonucu-kobiler-dijital-donusumu-hizlandirdi_ID1608248/',\n",
              "  '27.2.2025',\n",
              "  '18:03'],\n",
              " ['https://bigpara.hurriyet.com.tr/haberler/ekonomi-haberleri/abd-buyume-rakamlari-aciklandi_ID1608244/',\n",
              "  '27.2.2025',\n",
              "  '16:43']]"
            ]
          },
          "metadata": {},
          "execution_count": 58
        }
      ]
    },
    {
      "cell_type": "code",
      "source": [
        "# Assuming news_data is a list of lists like [['href', 'date', 'time'], ...]\n",
        "df = pd.DataFrame(news_data, columns=['URL', 'Date', 'Time'])\n",
        "\n",
        "# Convert 'Date' and 'Time' to datetime objects\n",
        "df['DateTime'] = pd.to_datetime(df['Date'] + ' ' + df['Time'], format='%d.%m.%Y %H:%M')\n",
        "\n",
        "# Get current time\n",
        "now = datetime.now()\n",
        "\n",
        "# Filter news from the last hour\n",
        "recent_news = df[df['DateTime'] > now - timedelta(hours=5)]\n",
        "\n",
        "# Drop the index\n",
        "recent_news.reset_index(drop=True, inplace=True)\n",
        "\n",
        "# Display the filtered news\n",
        "recent_news"
      ],
      "metadata": {
        "colab": {
          "base_uri": "https://localhost:8080/",
          "height": 125
        },
        "id": "XDUQtQ08VGCf",
        "outputId": "0d102287-09c9-404a-96be-498b617d705c"
      },
      "execution_count": 70,
      "outputs": [
        {
          "output_type": "execute_result",
          "data": {
            "text/plain": [
              "                                                 URL       Date   Time  \\\n",
              "0  https://bigpara.hurriyet.com.tr/haberler/ekono...  28.2.2025  21:42   \n",
              "1  https://bigpara.hurriyet.com.tr/ekonomi-haberl...  28.2.2025  17:12   \n",
              "\n",
              "             DateTime  \n",
              "0 2025-02-28 21:42:00  \n",
              "1 2025-02-28 17:12:00  "
            ],
            "text/html": [
              "\n",
              "  <div id=\"df-1e4543a3-cb12-4c2c-b4bb-70492cf27ba7\" class=\"colab-df-container\">\n",
              "    <div>\n",
              "<style scoped>\n",
              "    .dataframe tbody tr th:only-of-type {\n",
              "        vertical-align: middle;\n",
              "    }\n",
              "\n",
              "    .dataframe tbody tr th {\n",
              "        vertical-align: top;\n",
              "    }\n",
              "\n",
              "    .dataframe thead th {\n",
              "        text-align: right;\n",
              "    }\n",
              "</style>\n",
              "<table border=\"1\" class=\"dataframe\">\n",
              "  <thead>\n",
              "    <tr style=\"text-align: right;\">\n",
              "      <th></th>\n",
              "      <th>URL</th>\n",
              "      <th>Date</th>\n",
              "      <th>Time</th>\n",
              "      <th>DateTime</th>\n",
              "    </tr>\n",
              "  </thead>\n",
              "  <tbody>\n",
              "    <tr>\n",
              "      <th>0</th>\n",
              "      <td>https://bigpara.hurriyet.com.tr/haberler/ekono...</td>\n",
              "      <td>28.2.2025</td>\n",
              "      <td>21:42</td>\n",
              "      <td>2025-02-28 21:42:00</td>\n",
              "    </tr>\n",
              "    <tr>\n",
              "      <th>1</th>\n",
              "      <td>https://bigpara.hurriyet.com.tr/ekonomi-haberl...</td>\n",
              "      <td>28.2.2025</td>\n",
              "      <td>17:12</td>\n",
              "      <td>2025-02-28 17:12:00</td>\n",
              "    </tr>\n",
              "  </tbody>\n",
              "</table>\n",
              "</div>\n",
              "    <div class=\"colab-df-buttons\">\n",
              "\n",
              "  <div class=\"colab-df-container\">\n",
              "    <button class=\"colab-df-convert\" onclick=\"convertToInteractive('df-1e4543a3-cb12-4c2c-b4bb-70492cf27ba7')\"\n",
              "            title=\"Convert this dataframe to an interactive table.\"\n",
              "            style=\"display:none;\">\n",
              "\n",
              "  <svg xmlns=\"http://www.w3.org/2000/svg\" height=\"24px\" viewBox=\"0 -960 960 960\">\n",
              "    <path d=\"M120-120v-720h720v720H120Zm60-500h600v-160H180v160Zm220 220h160v-160H400v160Zm0 220h160v-160H400v160ZM180-400h160v-160H180v160Zm440 0h160v-160H620v160ZM180-180h160v-160H180v160Zm440 0h160v-160H620v160Z\"/>\n",
              "  </svg>\n",
              "    </button>\n",
              "\n",
              "  <style>\n",
              "    .colab-df-container {\n",
              "      display:flex;\n",
              "      gap: 12px;\n",
              "    }\n",
              "\n",
              "    .colab-df-convert {\n",
              "      background-color: #E8F0FE;\n",
              "      border: none;\n",
              "      border-radius: 50%;\n",
              "      cursor: pointer;\n",
              "      display: none;\n",
              "      fill: #1967D2;\n",
              "      height: 32px;\n",
              "      padding: 0 0 0 0;\n",
              "      width: 32px;\n",
              "    }\n",
              "\n",
              "    .colab-df-convert:hover {\n",
              "      background-color: #E2EBFA;\n",
              "      box-shadow: 0px 1px 2px rgba(60, 64, 67, 0.3), 0px 1px 3px 1px rgba(60, 64, 67, 0.15);\n",
              "      fill: #174EA6;\n",
              "    }\n",
              "\n",
              "    .colab-df-buttons div {\n",
              "      margin-bottom: 4px;\n",
              "    }\n",
              "\n",
              "    [theme=dark] .colab-df-convert {\n",
              "      background-color: #3B4455;\n",
              "      fill: #D2E3FC;\n",
              "    }\n",
              "\n",
              "    [theme=dark] .colab-df-convert:hover {\n",
              "      background-color: #434B5C;\n",
              "      box-shadow: 0px 1px 3px 1px rgba(0, 0, 0, 0.15);\n",
              "      filter: drop-shadow(0px 1px 2px rgba(0, 0, 0, 0.3));\n",
              "      fill: #FFFFFF;\n",
              "    }\n",
              "  </style>\n",
              "\n",
              "    <script>\n",
              "      const buttonEl =\n",
              "        document.querySelector('#df-1e4543a3-cb12-4c2c-b4bb-70492cf27ba7 button.colab-df-convert');\n",
              "      buttonEl.style.display =\n",
              "        google.colab.kernel.accessAllowed ? 'block' : 'none';\n",
              "\n",
              "      async function convertToInteractive(key) {\n",
              "        const element = document.querySelector('#df-1e4543a3-cb12-4c2c-b4bb-70492cf27ba7');\n",
              "        const dataTable =\n",
              "          await google.colab.kernel.invokeFunction('convertToInteractive',\n",
              "                                                    [key], {});\n",
              "        if (!dataTable) return;\n",
              "\n",
              "        const docLinkHtml = 'Like what you see? Visit the ' +\n",
              "          '<a target=\"_blank\" href=https://colab.research.google.com/notebooks/data_table.ipynb>data table notebook</a>'\n",
              "          + ' to learn more about interactive tables.';\n",
              "        element.innerHTML = '';\n",
              "        dataTable['output_type'] = 'display_data';\n",
              "        await google.colab.output.renderOutput(dataTable, element);\n",
              "        const docLink = document.createElement('div');\n",
              "        docLink.innerHTML = docLinkHtml;\n",
              "        element.appendChild(docLink);\n",
              "      }\n",
              "    </script>\n",
              "  </div>\n",
              "\n",
              "\n",
              "<div id=\"df-870b00c7-9b35-48a6-b3f8-70a41bb6ebfa\">\n",
              "  <button class=\"colab-df-quickchart\" onclick=\"quickchart('df-870b00c7-9b35-48a6-b3f8-70a41bb6ebfa')\"\n",
              "            title=\"Suggest charts\"\n",
              "            style=\"display:none;\">\n",
              "\n",
              "<svg xmlns=\"http://www.w3.org/2000/svg\" height=\"24px\"viewBox=\"0 0 24 24\"\n",
              "     width=\"24px\">\n",
              "    <g>\n",
              "        <path d=\"M19 3H5c-1.1 0-2 .9-2 2v14c0 1.1.9 2 2 2h14c1.1 0 2-.9 2-2V5c0-1.1-.9-2-2-2zM9 17H7v-7h2v7zm4 0h-2V7h2v10zm4 0h-2v-4h2v4z\"/>\n",
              "    </g>\n",
              "</svg>\n",
              "  </button>\n",
              "\n",
              "<style>\n",
              "  .colab-df-quickchart {\n",
              "      --bg-color: #E8F0FE;\n",
              "      --fill-color: #1967D2;\n",
              "      --hover-bg-color: #E2EBFA;\n",
              "      --hover-fill-color: #174EA6;\n",
              "      --disabled-fill-color: #AAA;\n",
              "      --disabled-bg-color: #DDD;\n",
              "  }\n",
              "\n",
              "  [theme=dark] .colab-df-quickchart {\n",
              "      --bg-color: #3B4455;\n",
              "      --fill-color: #D2E3FC;\n",
              "      --hover-bg-color: #434B5C;\n",
              "      --hover-fill-color: #FFFFFF;\n",
              "      --disabled-bg-color: #3B4455;\n",
              "      --disabled-fill-color: #666;\n",
              "  }\n",
              "\n",
              "  .colab-df-quickchart {\n",
              "    background-color: var(--bg-color);\n",
              "    border: none;\n",
              "    border-radius: 50%;\n",
              "    cursor: pointer;\n",
              "    display: none;\n",
              "    fill: var(--fill-color);\n",
              "    height: 32px;\n",
              "    padding: 0;\n",
              "    width: 32px;\n",
              "  }\n",
              "\n",
              "  .colab-df-quickchart:hover {\n",
              "    background-color: var(--hover-bg-color);\n",
              "    box-shadow: 0 1px 2px rgba(60, 64, 67, 0.3), 0 1px 3px 1px rgba(60, 64, 67, 0.15);\n",
              "    fill: var(--button-hover-fill-color);\n",
              "  }\n",
              "\n",
              "  .colab-df-quickchart-complete:disabled,\n",
              "  .colab-df-quickchart-complete:disabled:hover {\n",
              "    background-color: var(--disabled-bg-color);\n",
              "    fill: var(--disabled-fill-color);\n",
              "    box-shadow: none;\n",
              "  }\n",
              "\n",
              "  .colab-df-spinner {\n",
              "    border: 2px solid var(--fill-color);\n",
              "    border-color: transparent;\n",
              "    border-bottom-color: var(--fill-color);\n",
              "    animation:\n",
              "      spin 1s steps(1) infinite;\n",
              "  }\n",
              "\n",
              "  @keyframes spin {\n",
              "    0% {\n",
              "      border-color: transparent;\n",
              "      border-bottom-color: var(--fill-color);\n",
              "      border-left-color: var(--fill-color);\n",
              "    }\n",
              "    20% {\n",
              "      border-color: transparent;\n",
              "      border-left-color: var(--fill-color);\n",
              "      border-top-color: var(--fill-color);\n",
              "    }\n",
              "    30% {\n",
              "      border-color: transparent;\n",
              "      border-left-color: var(--fill-color);\n",
              "      border-top-color: var(--fill-color);\n",
              "      border-right-color: var(--fill-color);\n",
              "    }\n",
              "    40% {\n",
              "      border-color: transparent;\n",
              "      border-right-color: var(--fill-color);\n",
              "      border-top-color: var(--fill-color);\n",
              "    }\n",
              "    60% {\n",
              "      border-color: transparent;\n",
              "      border-right-color: var(--fill-color);\n",
              "    }\n",
              "    80% {\n",
              "      border-color: transparent;\n",
              "      border-right-color: var(--fill-color);\n",
              "      border-bottom-color: var(--fill-color);\n",
              "    }\n",
              "    90% {\n",
              "      border-color: transparent;\n",
              "      border-bottom-color: var(--fill-color);\n",
              "    }\n",
              "  }\n",
              "</style>\n",
              "\n",
              "  <script>\n",
              "    async function quickchart(key) {\n",
              "      const quickchartButtonEl =\n",
              "        document.querySelector('#' + key + ' button');\n",
              "      quickchartButtonEl.disabled = true;  // To prevent multiple clicks.\n",
              "      quickchartButtonEl.classList.add('colab-df-spinner');\n",
              "      try {\n",
              "        const charts = await google.colab.kernel.invokeFunction(\n",
              "            'suggestCharts', [key], {});\n",
              "      } catch (error) {\n",
              "        console.error('Error during call to suggestCharts:', error);\n",
              "      }\n",
              "      quickchartButtonEl.classList.remove('colab-df-spinner');\n",
              "      quickchartButtonEl.classList.add('colab-df-quickchart-complete');\n",
              "    }\n",
              "    (() => {\n",
              "      let quickchartButtonEl =\n",
              "        document.querySelector('#df-870b00c7-9b35-48a6-b3f8-70a41bb6ebfa button');\n",
              "      quickchartButtonEl.style.display =\n",
              "        google.colab.kernel.accessAllowed ? 'block' : 'none';\n",
              "    })();\n",
              "  </script>\n",
              "</div>\n",
              "\n",
              "  <div id=\"id_259fab9f-0786-490c-9cc9-2440254c48d7\">\n",
              "    <style>\n",
              "      .colab-df-generate {\n",
              "        background-color: #E8F0FE;\n",
              "        border: none;\n",
              "        border-radius: 50%;\n",
              "        cursor: pointer;\n",
              "        display: none;\n",
              "        fill: #1967D2;\n",
              "        height: 32px;\n",
              "        padding: 0 0 0 0;\n",
              "        width: 32px;\n",
              "      }\n",
              "\n",
              "      .colab-df-generate:hover {\n",
              "        background-color: #E2EBFA;\n",
              "        box-shadow: 0px 1px 2px rgba(60, 64, 67, 0.3), 0px 1px 3px 1px rgba(60, 64, 67, 0.15);\n",
              "        fill: #174EA6;\n",
              "      }\n",
              "\n",
              "      [theme=dark] .colab-df-generate {\n",
              "        background-color: #3B4455;\n",
              "        fill: #D2E3FC;\n",
              "      }\n",
              "\n",
              "      [theme=dark] .colab-df-generate:hover {\n",
              "        background-color: #434B5C;\n",
              "        box-shadow: 0px 1px 3px 1px rgba(0, 0, 0, 0.15);\n",
              "        filter: drop-shadow(0px 1px 2px rgba(0, 0, 0, 0.3));\n",
              "        fill: #FFFFFF;\n",
              "      }\n",
              "    </style>\n",
              "    <button class=\"colab-df-generate\" onclick=\"generateWithVariable('recent_news')\"\n",
              "            title=\"Generate code using this dataframe.\"\n",
              "            style=\"display:none;\">\n",
              "\n",
              "  <svg xmlns=\"http://www.w3.org/2000/svg\" height=\"24px\"viewBox=\"0 0 24 24\"\n",
              "       width=\"24px\">\n",
              "    <path d=\"M7,19H8.4L18.45,9,17,7.55,7,17.6ZM5,21V16.75L18.45,3.32a2,2,0,0,1,2.83,0l1.4,1.43a1.91,1.91,0,0,1,.58,1.4,1.91,1.91,0,0,1-.58,1.4L9.25,21ZM18.45,9,17,7.55Zm-12,3A5.31,5.31,0,0,0,4.9,8.1,5.31,5.31,0,0,0,1,6.5,5.31,5.31,0,0,0,4.9,4.9,5.31,5.31,0,0,0,6.5,1,5.31,5.31,0,0,0,8.1,4.9,5.31,5.31,0,0,0,12,6.5,5.46,5.46,0,0,0,6.5,12Z\"/>\n",
              "  </svg>\n",
              "    </button>\n",
              "    <script>\n",
              "      (() => {\n",
              "      const buttonEl =\n",
              "        document.querySelector('#id_259fab9f-0786-490c-9cc9-2440254c48d7 button.colab-df-generate');\n",
              "      buttonEl.style.display =\n",
              "        google.colab.kernel.accessAllowed ? 'block' : 'none';\n",
              "\n",
              "      buttonEl.onclick = () => {\n",
              "        google.colab.notebook.generateWithVariable('recent_news');\n",
              "      }\n",
              "      })();\n",
              "    </script>\n",
              "  </div>\n",
              "\n",
              "    </div>\n",
              "  </div>\n"
            ],
            "application/vnd.google.colaboratory.intrinsic+json": {
              "type": "dataframe",
              "variable_name": "recent_news",
              "summary": "{\n  \"name\": \"recent_news\",\n  \"rows\": 2,\n  \"fields\": [\n    {\n      \"column\": \"URL\",\n      \"properties\": {\n        \"dtype\": \"string\",\n        \"num_unique_values\": 2,\n        \"samples\": [\n          \"https://bigpara.hurriyet.com.tr/ekonomi-haberleri/galeri-fidye-ne-kadar-2025-ne-zaman-verilir-fidye-kimlere-verilir-kimlere-verilmez-diyanet-fidye-ve-fitre-2025-bedeli_ID1608282/\",\n          \"https://bigpara.hurriyet.com.tr/haberler/ekonomi-haberleri/guclu-buyuyen-turkcellden-guclu-yatirim_ID1608314/\"\n        ],\n        \"semantic_type\": \"\",\n        \"description\": \"\"\n      }\n    },\n    {\n      \"column\": \"Date\",\n      \"properties\": {\n        \"dtype\": \"object\",\n        \"num_unique_values\": 1,\n        \"samples\": [\n          \"28.2.2025\"\n        ],\n        \"semantic_type\": \"\",\n        \"description\": \"\"\n      }\n    },\n    {\n      \"column\": \"Time\",\n      \"properties\": {\n        \"dtype\": \"object\",\n        \"num_unique_values\": 2,\n        \"samples\": [\n          \"17:12\"\n        ],\n        \"semantic_type\": \"\",\n        \"description\": \"\"\n      }\n    },\n    {\n      \"column\": \"DateTime\",\n      \"properties\": {\n        \"dtype\": \"date\",\n        \"min\": \"2025-02-28 17:12:00\",\n        \"max\": \"2025-02-28 21:42:00\",\n        \"num_unique_values\": 2,\n        \"samples\": [\n          \"2025-02-28 17:12:00\"\n        ],\n        \"semantic_type\": \"\",\n        \"description\": \"\"\n      }\n    }\n  ]\n}"
            }
          },
          "metadata": {},
          "execution_count": 70
        }
      ]
    },
    {
      "cell_type": "code",
      "source": [
        "recent_news = recent_news['URL'].tolist()\n",
        "recent_news.append(\"https://bigpara.hurriyet.com.tr/haberler/ekonomi-haberleri/anadolu-efes-190-milyon-liralik-yatirim-aldi\") # Add an extra news to test if LLM responses to a signal\n",
        "recent_news"
      ],
      "metadata": {
        "colab": {
          "base_uri": "https://localhost:8080/"
        },
        "id": "_2Vf7D1xW3IZ",
        "outputId": "4c2b3f6e-d5e5-41b4-c240-cdb675f13460"
      },
      "execution_count": 71,
      "outputs": [
        {
          "output_type": "execute_result",
          "data": {
            "text/plain": [
              "['https://bigpara.hurriyet.com.tr/haberler/ekonomi-haberleri/guclu-buyuyen-turkcellden-guclu-yatirim_ID1608314/',\n",
              " 'https://bigpara.hurriyet.com.tr/ekonomi-haberleri/galeri-fidye-ne-kadar-2025-ne-zaman-verilir-fidye-kimlere-verilir-kimlere-verilmez-diyanet-fidye-ve-fitre-2025-bedeli_ID1608282/',\n",
              " 'https://bigpara.hurriyet.com.tr/haberler/ekonomi-haberleri/anadolu-efes-190-milyon-liralik-yatirim-aldi']"
            ]
          },
          "metadata": {},
          "execution_count": 71
        }
      ]
    },
    {
      "cell_type": "code",
      "source": [
        "!wget https://raw.githubusercontent.com/burakemretetik/news_signal/master/bist_100_hisseleri.csv\n",
        "\n",
        "bist_100 = pd.read_csv(\"bist_100_hisseleri.csv\")\n",
        "\n",
        "stock_list = bist_100[\"Hisse Adı\"].tolist()\n",
        "\n",
        "stock_batch = stock_list[:10]"
      ],
      "metadata": {
        "colab": {
          "base_uri": "https://localhost:8080/"
        },
        "id": "0601ggv0pZ6U",
        "outputId": "2d6fca6b-7a9b-4656-ad37-6071ac59ddd3"
      },
      "execution_count": 88,
      "outputs": [
        {
          "output_type": "stream",
          "name": "stdout",
          "text": [
            "--2025-02-28 21:02:21--  https://raw.githubusercontent.com/burakemretetik/news_signal/master/bist_100_hisseleri.csv\n",
            "Resolving raw.githubusercontent.com (raw.githubusercontent.com)... 185.199.108.133, 185.199.109.133, 185.199.110.133, ...\n",
            "Connecting to raw.githubusercontent.com (raw.githubusercontent.com)|185.199.108.133|:443... connected.\n",
            "HTTP request sent, awaiting response... 200 OK\n",
            "Length: 6215 (6.1K) [text/plain]\n",
            "Saving to: ‘bist_100_hisseleri.csv.11’\n",
            "\n",
            "\r          bist_100_   0%[                    ]       0  --.-KB/s               \rbist_100_hisseleri. 100%[===================>]   6.07K  --.-KB/s    in 0s      \n",
            "\n",
            "2025-02-28 21:02:21 (55.0 MB/s) - ‘bist_100_hisseleri.csv.11’ saved [6215/6215]\n",
            "\n"
          ]
        }
      ]
    },
    {
      "cell_type": "code",
      "source": [
        "stock_batch"
      ],
      "metadata": {
        "colab": {
          "base_uri": "https://localhost:8080/"
        },
        "id": "WimODegyDmXT",
        "outputId": "54b85d89-7f4e-4a8e-8f74-000e68aecff6"
      },
      "execution_count": 89,
      "outputs": [
        {
          "output_type": "execute_result",
          "data": {
            "text/plain": [
              "['ADEL KALEMCİLİK TİCARET VE SANAYİ',\n",
              " 'ANADOLU EFES BİRACILIK VE MALT SANAYİİ',\n",
              " 'AG ANADOLU GRUBU HOLDİNG',\n",
              " 'AGROTECH YÜKSEK TEKNOLOJİ VE YATIRIM',\n",
              " 'AHLATCI DOĞAL GAZ DAĞITIM ENERJİ VE YATIRIM',\n",
              " 'AKBANK',\n",
              " 'AKÇANSA ÇİMENTO SANAYİ VE TİCARET',\n",
              " 'AKFEN GAYRİMENKUL YATIRIM ORTAKLIĞI',\n",
              " 'AKFEN YENİLENEBİLİR ENERJİ',\n",
              " 'AKSA AKRİLİK KİMYA SANAYİİ']"
            ]
          },
          "metadata": {},
          "execution_count": 89
        }
      ]
    },
    {
      "cell_type": "code",
      "source": [
        "prompt = f\"\"\"Analyze the news URLs below and identify **ONLY** URLs that **explicitly** mention one of my listed stocks.\n",
        "----------\n",
        "**Rules**:\n",
        "1. **Direct Mention Required**: Include ONLY if the URL directly mentions the company (e.g., \"COMPANY_NAME announces record profits\").\n",
        "2. **Exclude**:\n",
        "   - Sector-wide trends.\n",
        "   - Government policies.\n",
        "   - Indirect references.\n",
        "3. **No interpretations/speculations**: If unsure, omit.\n",
        "----------\n",
        "**Output Format**:\n",
        "```json\n",
        "{{\n",
        "  \"direct_news\": [\n",
        "    {{\"sirket_adi\": \"COMPANY_NAME\", \"haber_url\": \"NEWS_URL\"}}\n",
        "  ],\n",
        "  \"no_direct_news_found\": true/false\n",
        "}}\n",
        "My Stocks: {stock_batch}\n",
        "\n",
        "News URL: {recent_news}\"\"\""
      ],
      "metadata": {
        "id": "8APvvS9VpFdo"
      },
      "execution_count": 90,
      "outputs": []
    },
    {
      "cell_type": "code",
      "source": [
        "!pip install openai\n",
        "from openai import OpenAI\n",
        "\n",
        "import os\n",
        "os.environ[\"OPENAI_API_KEY\"] = \"<API-KEY>\"\n",
        "client = OpenAI()"
      ],
      "metadata": {
        "colab": {
          "base_uri": "https://localhost:8080/"
        },
        "id": "4Aoiitorn_Cu",
        "outputId": "32e642a6-d437-4ba6-eb33-ed142340c12f"
      },
      "execution_count": 77,
      "outputs": [
        {
          "output_type": "stream",
          "name": "stdout",
          "text": [
            "Requirement already satisfied: openai in /usr/local/lib/python3.11/dist-packages (1.61.1)\n",
            "Requirement already satisfied: anyio<5,>=3.5.0 in /usr/local/lib/python3.11/dist-packages (from openai) (3.7.1)\n",
            "Requirement already satisfied: distro<2,>=1.7.0 in /usr/local/lib/python3.11/dist-packages (from openai) (1.9.0)\n",
            "Requirement already satisfied: httpx<1,>=0.23.0 in /usr/local/lib/python3.11/dist-packages (from openai) (0.28.1)\n",
            "Requirement already satisfied: jiter<1,>=0.4.0 in /usr/local/lib/python3.11/dist-packages (from openai) (0.8.2)\n",
            "Requirement already satisfied: pydantic<3,>=1.9.0 in /usr/local/lib/python3.11/dist-packages (from openai) (2.10.6)\n",
            "Requirement already satisfied: sniffio in /usr/local/lib/python3.11/dist-packages (from openai) (1.3.1)\n",
            "Requirement already satisfied: tqdm>4 in /usr/local/lib/python3.11/dist-packages (from openai) (4.67.1)\n",
            "Requirement already satisfied: typing-extensions<5,>=4.11 in /usr/local/lib/python3.11/dist-packages (from openai) (4.12.2)\n",
            "Requirement already satisfied: idna>=2.8 in /usr/local/lib/python3.11/dist-packages (from anyio<5,>=3.5.0->openai) (3.10)\n",
            "Requirement already satisfied: certifi in /usr/local/lib/python3.11/dist-packages (from httpx<1,>=0.23.0->openai) (2025.1.31)\n",
            "Requirement already satisfied: httpcore==1.* in /usr/local/lib/python3.11/dist-packages (from httpx<1,>=0.23.0->openai) (1.0.7)\n",
            "Requirement already satisfied: h11<0.15,>=0.13 in /usr/local/lib/python3.11/dist-packages (from httpcore==1.*->httpx<1,>=0.23.0->openai) (0.14.0)\n",
            "Requirement already satisfied: annotated-types>=0.6.0 in /usr/local/lib/python3.11/dist-packages (from pydantic<3,>=1.9.0->openai) (0.7.0)\n",
            "Requirement already satisfied: pydantic-core==2.27.2 in /usr/local/lib/python3.11/dist-packages (from pydantic<3,>=1.9.0->openai) (2.27.2)\n"
          ]
        }
      ]
    },
    {
      "cell_type": "code",
      "source": [
        "response = client.chat.completions.create(\n",
        "  model=\"gpt-4o-mini\",\n",
        "  messages=[\n",
        "    {\"role\": \"system\", \"content\": \"You are a helpful assistant.\"},\n",
        "    {\"role\": \"user\", \"content\": prompt}\n",
        "  ]\n",
        ")\n",
        "\n",
        "print(response.choices[0].message.content)"
      ],
      "metadata": {
        "colab": {
          "base_uri": "https://localhost:8080/"
        },
        "id": "1_VWtNQMKRpF",
        "outputId": "0c64729f-62a1-4166-ca3b-25942bb70d1b"
      },
      "execution_count": 85,
      "outputs": [
        {
          "output_type": "stream",
          "name": "stdout",
          "text": [
            "```json\n",
            "{\n",
            "  \"direct_news\": [\n",
            "    {\"sirket_adi\": \"ANADOLU EFES BİRACILIK VE MALT SANAYİİ\", \"haber_url\": \"https://bigpara.hurriyet.com.tr/haberler/ekonomi-haberleri/anadolu-efes-190-milyon-liralik-yatirim-aldi\"}\n",
            "  ],\n",
            "  \"no_direct_news_found\": false\n",
            "}\n",
            "```\n"
          ]
        }
      ]
    },
    {
      "cell_type": "markdown",
      "source": [
        "## Send Stock Names ass Batches to the LLM"
      ],
      "metadata": {
        "id": "uKEqyOpoTGt4"
      }
    },
    {
      "cell_type": "code",
      "source": [
        "def create_stock_batches(stock_list, n=10):\n",
        "  \"\"\"Creates batches of stock names from a list.\n",
        "\n",
        "  Args:\n",
        "    stock_list: A list of stock names.\n",
        "    n: The desired size of each batch. Defaults to 10.\n",
        "\n",
        "  Returns:\n",
        "    A list of stock batches.\n",
        "  \"\"\"\n",
        "  stock_batches = []\n",
        "  for i in range(0, len(stock_list), n):\n",
        "    stock_batches.append(stock_list[i : i + n])  # Slices list into batches of size n\n",
        "  return stock_batches\n",
        "\n",
        "# Example usage:\n",
        "stock_list = bist_100[\"Hisse Adı\"].tolist()  # Assuming bist_100 is your DataFrame\n",
        "stock_batches = create_stock_batches(stock_list, n=10)\n",
        "\n",
        "# Print the batches:\n",
        "stock_batches[:2]"
      ],
      "metadata": {
        "colab": {
          "base_uri": "https://localhost:8080/"
        },
        "id": "mJc5Vu5wSKBM",
        "outputId": "f8a9fce7-1d06-4288-acdf-34bb2c1cbb44"
      },
      "execution_count": 100,
      "outputs": [
        {
          "output_type": "execute_result",
          "data": {
            "text/plain": [
              "[['ADEL KALEMCİLİK TİCARET VE SANAYİ',\n",
              "  'ANADOLU EFES BİRACILIK VE MALT SANAYİİ',\n",
              "  'AG ANADOLU GRUBU HOLDİNG',\n",
              "  'AGROTECH YÜKSEK TEKNOLOJİ VE YATIRIM',\n",
              "  'AHLATCI DOĞAL GAZ DAĞITIM ENERJİ VE YATIRIM',\n",
              "  'AKBANK',\n",
              "  'AKÇANSA ÇİMENTO SANAYİ VE TİCARET',\n",
              "  'AKFEN GAYRİMENKUL YATIRIM ORTAKLIĞI',\n",
              "  'AKFEN YENİLENEBİLİR ENERJİ',\n",
              "  'AKSA AKRİLİK KİMYA SANAYİİ'],\n",
              " ['AKSA ENERJİ ÜRETİM',\n",
              "  'ALARKO HOLDİNG',\n",
              "  'ALBARAKA TÜRK KATILIM BANKASI',\n",
              "  'ALFA SOLAR ENERJİ SANAYİ VE TİCARET',\n",
              "  'ALTINAY SAVUNMA TEKNOLOJİLERİ',\n",
              "  'ANADOLU HAYAT EMEKLİLİK',\n",
              "  'ANADOLU ANONİM TÜRK SİGORTA Şİ',\n",
              "  'ARÇELİK',\n",
              "  'ARD GRUP BİLİŞİM TEKNOLOJİLERİ',\n",
              "  'ASELSAN ELEKTRONİK SANAYİ VE TİCARET']]"
            ]
          },
          "metadata": {},
          "execution_count": 100
        }
      ]
    },
    {
      "cell_type": "code",
      "source": [
        "def get_llm_response(stock_batch, recent_news):\n",
        "  \"\"\"Sends a prompt with stock batch and news to the LLM and gets a response.\n",
        "\n",
        "  Args:\n",
        "    stock_batch: A list of stock names.\n",
        "    recent_news: A list of recent news headlines.\n",
        "\n",
        "  Returns:\n",
        "    The LLM's response as a JSON string.\n",
        "  \"\"\"\n",
        "\n",
        "  prompt = f\"\"\"Analyze the news URLs below and identify **ONLY** URLs that **explicitly** mention one of my listed stocks.\n",
        "  ----------\n",
        "  **Rules**:\n",
        "  1. **Direct Mention Required**: Include ONLY if the URL directly mentions the company (e.g., \"COMPANY_NAME announces record profits\").\n",
        "  2. **Exclude**:\n",
        "    - Sector-wide trends.\n",
        "    - Government policies.\n",
        "    - Indirect references.\n",
        "  3. **No interpretations/speculations**: If unsure, omit.\n",
        "  ----------\n",
        "  **Output Format**:\n",
        "  ```json\n",
        "  {{\n",
        "    \"direct_news\": [\n",
        "      {{\"sirket_adi\": \"COMPANY_NAME\", \"haber_url\": \"NEWS_URL\"}}\n",
        "    ],\n",
        "    \"no_direct_news_found\": true/false\n",
        "  }}\n",
        "  My Stocks: {stock_batch}\n",
        "\n",
        "  News URL: {recent_news}\"\"\"\n",
        "\n",
        "  response = client.chat.completions.create( model=\"gpt-4\", messages=[ {\"role\": \"system\", \"content\": \"You are a helpful assistant.\"}, {\"role\": \"user\", \"content\": prompt} ] )\n",
        "\n",
        "  return response.choices[0].message.content"
      ],
      "metadata": {
        "id": "77HOoY09YtPB"
      },
      "execution_count": 103,
      "outputs": []
    },
    {
      "cell_type": "code",
      "source": [
        "for stock_batch in stock_batches:\n",
        "  response = get_llm_response(stock_batch, recent_news)\n",
        "  print(response)"
      ],
      "metadata": {
        "colab": {
          "base_uri": "https://localhost:8080/"
        },
        "id": "5qk_7DfPZBjl",
        "outputId": "1c43a541-ef41-4bde-dbaf-52310e3c15c9"
      },
      "execution_count": 104,
      "outputs": [
        {
          "output_type": "stream",
          "name": "stdout",
          "text": [
            "```json\n",
            "{\n",
            "  \"direct_news\": [\n",
            "    {\"sirket_adi\": \"ANADOLU EFES BİRACILIK VE MALT SANAYİİ\", \"haber_url\": \"https://bigpara.hurriyet.com.tr/haberler/ekonomi-haberleri/anadolu-efes-190-milyon-liralik-yatirim-aldi\"}\n",
            "  ],\n",
            "  \"no_direct_news_found\": false\n",
            "}\n",
            "```\n",
            "```json\n",
            "{\n",
            "  \"direct_news\": [],\n",
            "  \"no_direct_news_found\": true\n",
            "}\n",
            "```\n",
            "```json\n",
            "{\n",
            "  \"direct_news\": [],\n",
            "  \"no_direct_news_found\": true\n",
            "}\n",
            "```\n",
            "```json\n",
            "{\n",
            "  \"direct_news\": [],\n",
            "  \"no_direct_news_found\": true\n",
            "}\n",
            "```\n",
            "```json\n",
            "{\n",
            "  \"direct_news\": [],\n",
            "  \"no_direct_news_found\": true\n",
            "}\n",
            "```\n",
            "```json\n",
            "{\n",
            "  \"direct_news\": [],\n",
            "  \"no_direct_news_found\": true\n",
            "}\n",
            "```\n",
            "```json\n",
            "{\n",
            "  \"direct_news\": [],\n",
            "  \"no_direct_news_found\": true\n",
            "}\n",
            "```\n",
            "```json\n",
            "{\n",
            "  \"direct_news\": [],\n",
            "  \"no_direct_news_found\": true\n",
            "}\n",
            "```\n",
            "Based on the rules you provided and after analyzing the URLs, none of them mention any of the stocks you listed. Here is the output in the specified format:\n",
            "\n",
            "```json\n",
            "  {\n",
            "    \"direct_news\": [],\n",
            "    \"no_direct_news_found\": true\n",
            "  }\n",
            "```\n",
            "```json\n",
            "{\n",
            "  \"direct_news\": [],\n",
            "  \"no_direct_news_found\": true\n",
            "}\n",
            "```\n",
            "```json\n",
            "{\n",
            "  \"direct_news\": [\n",
            "    {\"sirket_adi\": \"TURKCELL İLETİŞİM HİZMETLERİ\", \"haber_url\": \"https://bigpara.hurriyet.com.tr/haberler/ekonomi-haberleri/guclu-buyuyen-turkcellden-guclu-yatirim_ID1608314/\"}\n",
            "  ],\n",
            "  \"no_direct_news_found\": false\n",
            "}\n",
            "```\n",
            "```json\n",
            "{\n",
            "  \"direct_news\": [\n",
            "  ],\n",
            "  \"no_direct_news_found\": true\n",
            "}\n",
            "```\n",
            "```json\n",
            "{\n",
            "  \"direct_news\": [],\n",
            "  \"no_direct_news_found\": true\n",
            "}\n",
            "```\n"
          ]
        }
      ]
    }
  ]
}