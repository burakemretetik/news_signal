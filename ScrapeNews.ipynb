{
  "nbformat": 4,
  "nbformat_minor": 0,
  "metadata": {
    "colab": {
      "provenance": [],
      "authorship_tag": "ABX9TyNVKcHFuujwTK09iUGih/xR",
      "include_colab_link": true
    },
    "kernelspec": {
      "name": "python3",
      "display_name": "Python 3"
    },
    "language_info": {
      "name": "python"
    }
  },
  "cells": [
    {
      "cell_type": "markdown",
      "metadata": {
        "id": "view-in-github",
        "colab_type": "text"
      },
      "source": [
        "<a href=\"https://colab.research.google.com/github/burakemretetik/news_signal/blob/main/ScrapeNews.ipynb\" target=\"_parent\"><img src=\"https://colab.research.google.com/assets/colab-badge.svg\" alt=\"Open In Colab\"/></a>"
      ]
    },
    {
      "cell_type": "code",
      "source": [
        "import requests\n",
        "import time\n",
        "from datetime import datetime\n",
        "from bs4 import BeautifulSoup\n",
        "import re"
      ],
      "metadata": {
        "id": "-0IeeYIOqX8j"
      },
      "execution_count": 21,
      "outputs": []
    },
    {
      "cell_type": "code",
      "execution_count": 3,
      "metadata": {
        "id": "XfH62v0TSWKD"
      },
      "outputs": [],
      "source": [
        "def get_website_html(url):\n",
        "    \"\"\"\n",
        "    Fetches and returns the complete HTML content from a given URL.\n",
        "\n",
        "    Args:\n",
        "        url (str): The URL to fetch HTML from\n",
        "\n",
        "    Returns:\n",
        "        str: The HTML content of the page\n",
        "    \"\"\"\n",
        "    # Set realistic browser headers\n",
        "    headers = {\n",
        "        \"User-Agent\": \"Mozilla/5.0 (Windows NT 10.0; Win64; x64) AppleWebKit/537.36 (KHTML, like Gecko) Chrome/120.0.0.0 Safari/537.36\",\n",
        "        \"Accept\": \"text/html,application/xhtml+xml,application/xml;q=0.9,image/avif,image/webp,image/apng,*/*;q=0.8\",\n",
        "        \"Accept-Language\": \"tr-TR,tr;q=0.9,en-US;q=0.8,en;q=0.7\",\n",
        "        \"Referer\": \"https://www.haberturk.com/\",\n",
        "        \"Connection\": \"keep-alive\",\n",
        "        \"Cache-Control\": \"max-age=0\"\n",
        "    }\n",
        "\n",
        "    try:\n",
        "        print(f\"Fetching HTML from {url}...\")\n",
        "        response = requests.get(url, headers=headers, timeout=30)\n",
        "        response.raise_for_status()  # Raise an exception for HTTP errors\n",
        "\n",
        "        print(f\"Successfully retrieved HTML ({len(response.text)} characters)\")\n",
        "        return response.text\n",
        "    except requests.exceptions.RequestException as e:\n",
        "        print(f\"Error fetching the website: {e}\")\n",
        "        return None\n",
        "    except Exception as e:\n",
        "        print(f\"An unexpected error occurred: {e}\")\n",
        "        return None"
      ]
    },
    {
      "cell_type": "code",
      "source": [
        "haberturk = get_website_html(\"https://www.haberturk.com/ekonomi/\")\n",
        "trthaber = get_website_html(\"https://www.trthaber.com/haber/ekonomi/\")\n",
        "cnnhaber = get_website_html(\"https://www.cnnturk.com/ekonomi-haberleri/\")\n",
        "bloomberght = get_website_html(\"https://www.bloomberght.com/haberler/turkiye-ekonomisi/\")\n",
        "bigpara = get_website_html(\"https://bigpara.hurriyet.com.tr/haberler/ekonomi-haberleri/\")\n",
        "#ekonomim = get_website_html(\"https://www.ekonomim.com/sirketler/\")\n",
        "#sozcu = get_website_html(\"https://www.sozcu.com.tr/ekonomi/\")\n",
        "#haber7 = get_website_html(\"https://ekonomi.haber7.com/\")\n",
        "#haberglobal = (\"https://haberglobal.com.tr/ekonomi\")\n",
        "#milatgazete = (\"https://www.milatgazetesi.com/ekonomi\")"
      ],
      "metadata": {
        "colab": {
          "base_uri": "https://localhost:8080/"
        },
        "id": "8Q1Lp0nYTSRe",
        "outputId": "e690db96-f90b-4d4c-f9d7-049465270199"
      },
      "execution_count": 47,
      "outputs": [
        {
          "output_type": "stream",
          "name": "stdout",
          "text": [
            "Fetching HTML from https://www.haberturk.com/ekonomi/...\n",
            "Successfully retrieved HTML (228359 characters)\n",
            "Fetching HTML from https://www.trthaber.com/haber/ekonomi/...\n",
            "Successfully retrieved HTML (104044 characters)\n",
            "Fetching HTML from https://www.cnnturk.com/ekonomi-haberleri/...\n",
            "Successfully retrieved HTML (224731 characters)\n",
            "Fetching HTML from https://www.bloomberght.com/haberler/turkiye-ekonomisi/...\n",
            "Successfully retrieved HTML (68000 characters)\n",
            "Fetching HTML from https://bigpara.hurriyet.com.tr/haberler/ekonomi-haberleri/...\n",
            "Successfully retrieved HTML (123618 characters)\n"
          ]
        }
      ]
    },
    {
      "cell_type": "markdown",
      "source": [
        "## Haber Türk"
      ],
      "metadata": {
        "id": "W8m9Jb_0gckz"
      }
    },
    {
      "cell_type": "code",
      "source": [
        "# Parse the HTML content\n",
        "soup = BeautifulSoup(haberturk, 'html.parser')\n",
        "\n",
        "# Find all <a> tags\n",
        "all_links = soup.find_all('a', {'data-newscategory': 'Ekonomi'}, class_ = \"block gtm-tracker\" , href=True)\n",
        "\n",
        "# Filter links that match the specific pattern\n",
        "#filtered_links = [link for link in all_links if link['href'].startswith(\"/ekonomi/borsa/hisse\")]\n",
        "\n",
        "# Print the filtered links\n",
        "for link in all_links:\n",
        "    print(link['href'])"
      ],
      "metadata": {
        "colab": {
          "base_uri": "https://localhost:8080/"
        },
        "id": "NMf2gPuegYrh",
        "outputId": "9c337c1a-0bd8-4d9a-f58f-a8f508c61252"
      },
      "execution_count": 22,
      "outputs": [
        {
          "output_type": "stream",
          "name": "stdout",
          "text": [
            "/2024-buyume-rakamlari-aciklandi-3769637-ekonomi\n",
            "/kripto-paraciya-kira-vergisi-soku-3769617-ekonomi\n",
            "/mars-gayrimenkul-yonetim-kurulu-baskani-hakan-bucak-konut-fiyatlarinin-mart-nisanda-en-dibi-gorecegi-3769606-ekonomi\n",
            "/kadin-isciyi-gece-calistirma-kurallari-3769462-ekonomi\n",
            "/ocakta-issizlik-geriledi-3769669-ekonomi\n",
            "/kamu-iscisinin-zam-talebi-aciklandi-3769461-ekonomi\n",
            "/doviz-mevduatlarinda-15-yilin-en-hizli-artisi-3769434-ekonomi\n",
            "/spk-dan-4-sirketin-borclanma-araci-ihracina-onay-3769593-ekonomi\n",
            "/coinbasee-karsi-acilan-davanin-dusuruldu-3769590-ekonomi\n",
            "/turkiye-ye-1-72-milyar-dolarlik-dogrudan-yatirim-olacak-3768618-ekonomi\n",
            "/her-100-tl-nin-83-u-gidaya-harcaniyor-3768597-ekonomi\n",
            "/starbucks-dunya-genelinde-1100-kisiyi-isten-cikaracak-3768380-ekonomi\n",
            "/tava-cigerin-fiyati-et-doneri-solladi-3769679-ekonomi\n",
            "/cumhurbaskani-yardimcisi-cevdet-yilmaz-enflasyonu-yukselten-temelde-hizmet-sektoru-3769612-ekonomi\n",
            "/abd-baskani-trump-tan-tarife-aciklamasi-4-mart-ta-planlandigi-gibi-yururluge-girecek-3769608-ekonomi\n",
            "/sisecam-in-2024-te-net-satislari-186-milyar-lira-oldu-3769541-ekonomi\n",
            "/imf-baskani-georgieva-ekonomi-politikalarina-iliskin-belirsizlik-yuksek-3769530-ekonomi\n",
            "/piyasa-raporu-27-subat-2025-persembe-borsa-dolar-altin-ve-kripto-paralarda-son-durum-fai-3769489-ekonomi\n",
            "/gelecegin-bilim-insanlari-uluslararasi-cocuk-bilim-yarismasi-nda-bulusuyor-3769474-teknoloji\n",
            "/dunya-sivil-toplum-kuruluslari-gunune-ozel-sepette-iyilik-3769475-teknoloji\n",
            "/315-milyon-dolarlik-teknoloji-yatirimi-3769049-teknoloji\n",
            "/toyota-hidrojen-teknolojisinde-3-uncu-seviyeye-geciyor-3767543-ekonomi\n",
            "/daimler-truck-kendi-secim-kampanyasini-baslatti-3764510-ekonomi\n",
            "/vw-nin-ispanyol-seat-tan-kuzeninden-ab-ye-rest-3763995-ekonomi\n",
            "/araclari-yesil-enerji-ile-sarj-edecek-3763387-ekonomi\n",
            "/tamamlayici-saglik-sigortasinin-avantajlari-artik-biliniyor--3769467-ekonomi\n",
            "/istanbulda-site-aidatlari-kiralari-gecti-yeni-duzenleme-ne-getirecek-3769449-ekonomi\n",
            "/turkiye-nin-ilk-ulusal-havacilik-srasi-tamamlandi-3769419-ekonomi\n",
            "/kkm-de-402-milyar-liralik-dusus-3769429-ekonomi\n",
            "/tcmb-rezervlerinde-gerileme-3769428-ekonomi\n",
            "/trump-neden-ukrayna-daki-nadir-elementleri-istiyor-3769306-ekonomi\n",
            "/turkiye-nin-ilk-luks-tasarim-outlet-merkezi-2026da-istanbulda-aciliyor-3769425-ekonomi\n",
            "/temiz-sanayi-anlasmasi-onemli-bir-firsat-sunuyor-3769396-ekonomi\n",
            "/carrefoursa-dan-kucuk-olcekli-kiyi-balikciligini-korumak-icin-cagri-3769385-ekonomi\n",
            "/online-bireysel-kurslara-kdv-istisnasi-3769352-ekonomi\n",
            "/enerjisa-nin-faaliyet-geliri-41-milyar-lirayi-asti-3769345-ekonomi\n",
            "/ebrd-turkiye-icin-buyume-tahminini-degistirmedi-3769342-ekonomi\n",
            "/ekonomik-guven-subatta-geriledi-3769338-ekonomi\n",
            "/tcmb-en-belirgin-yavaslama-yuksek-gelir-grubuna-hitap-eden-urunlerde-yasandi-3769281-ekonomi\n",
            "/ocak-2025-dis-ticaret-verileri-3769305-ekonomi\n",
            "/iso-baskani-bahcivandan-abd-nin-abye-olasi-tarifelerine-yonelik-mesaj-gerekli-onlemleri-almak-durumu-3769286-ekonomi\n",
            "/kuresel-piyasalarda-gozler-abd-de-aciklanacak-verilerde-3769285-ekonomi\n",
            "/abd-de-yeni-banknotta-trump-in-yuzu-mu-olacak-3769278-ekonomi\n",
            "/trump-avrupa-ya-tarife-konusunda-geri-adim-atmiyor-3769271-ekonomi\n",
            "/abd-li-cip-ureticisi-nvidia-nin-geliri-yuzde-78-artti-3769262-teknoloji\n",
            "/motorin-fiyatina-indirim-geldi-3769258-ekonomi\n",
            "/kazasiz-is-yerinde-3-yil-prim-indirimi-3769093-ekonomi\n",
            "/atm-lerde-yuz-tanima-donemi-basliyor-3769071-ekonomi\n",
            "/ilk-hedef-350-dolar-3769111-ekonomi\n",
            "/piyasalarda-gun-sonu-ekonomi-haberleri-3769143-ekonomi\n",
            "/piyasa-kapanisi-26-subat-2025-carsamba-borsa-dolar-altin-ve-kripto-paralarda-bugun-ne-oldu-fai-3769138-ekonomi\n"
          ]
        }
      ]
    },
    {
      "cell_type": "markdown",
      "source": [
        "## TRT Haber"
      ],
      "metadata": {
        "id": "92ITmuQAq1cY"
      }
    },
    {
      "cell_type": "code",
      "source": [
        "# Parse the HTML content\n",
        "soup = BeautifulSoup(trthaber, 'html.parser')\n",
        "\n",
        "# Find all <a> tags\n",
        "all_links = soup.find_all('a', class_ = \"site-url\", href=True)\n",
        "\n",
        "# Filter links that match the specific pattern\n",
        "filtered_links = [link for link in all_links if link['href'].startswith(\"https://www.trthaber.com/haber/ekonomi/\") and link['href'].endswith(\".html\")]\n",
        "\n",
        "for link in filtered_links:\n",
        "    print(link['href'])"
      ],
      "metadata": {
        "colab": {
          "base_uri": "https://localhost:8080/"
        },
        "id": "FvwNvLOrq4VQ",
        "outputId": "64bbfc0a-90ae-4c1c-b20b-c90e4667414c"
      },
      "execution_count": 9,
      "outputs": [
        {
          "output_type": "stream",
          "name": "stdout",
          "text": [
            "https://www.trthaber.com/haber/ekonomi/dogal-gazda-mart-tarifesinde-degisiklige-gidilmedi-899248.html\n",
            "https://www.trthaber.com/haber/ekonomi/dogal-gazda-mart-tarifesinde-degisiklige-gidilmedi-899248.html\n",
            "https://www.trthaber.com/haber/ekonomi/dogal-gazda-mart-tarifesinde-degisiklige-gidilmedi-899248.html\n",
            "https://www.trthaber.com/haber/ekonomi/dogal-gazda-mart-tarifesinde-degisiklige-gidilmedi-899248.html\n",
            "https://www.trthaber.com/haber/ekonomi/dogal-gazda-mart-tarifesinde-degisiklige-gidilmedi-899248.html\n",
            "https://www.trthaber.com/haber/ekonomi/dogal-gazda-mart-tarifesinde-degisiklige-gidilmedi-899248.html\n",
            "https://www.trthaber.com/haber/ekonomi/kuresel-piyasalar-negatif-seyrediyor-899243.html\n",
            "https://www.trthaber.com/haber/ekonomi/kuresel-piyasalar-negatif-seyrediyor-899243.html\n",
            "https://www.trthaber.com/haber/ekonomi/kuresel-piyasalar-negatif-seyrediyor-899243.html\n",
            "https://www.trthaber.com/haber/ekonomi/brent-petrolun-varili-7303-dolardan-islem-goruyor-899241.html\n",
            "https://www.trthaber.com/haber/ekonomi/brent-petrolun-varili-7303-dolardan-islem-goruyor-899241.html\n",
            "https://www.trthaber.com/haber/ekonomi/brent-petrolun-varili-7303-dolardan-islem-goruyor-899241.html\n",
            "https://www.trthaber.com/haber/ekonomi/issizlik-21-aydir-tek-hanede-899239.html\n",
            "https://www.trthaber.com/haber/ekonomi/issizlik-21-aydir-tek-hanede-899239.html\n",
            "https://www.trthaber.com/haber/ekonomi/issizlik-21-aydir-tek-hanede-899239.html\n",
            "https://www.trthaber.com/haber/ekonomi/turkiye-ekonomisi-2024te-yuzde-32-buyudu-899238.html\n",
            "https://www.trthaber.com/haber/ekonomi/turkiye-ekonomisi-2024te-yuzde-32-buyudu-899238.html\n",
            "https://www.trthaber.com/haber/ekonomi/turkiye-ekonomisi-2024te-yuzde-32-buyudu-899238.html\n",
            "https://www.trthaber.com/haber/ekonomi/bakan-kacir-turkiyenin-ingiltere-ve-avrupaya-katacaklari-cok-fazla-899233.html\n",
            "https://www.trthaber.com/haber/ekonomi/bakan-kacir-turkiyenin-ingiltere-ve-avrupaya-katacaklari-cok-fazla-899233.html\n",
            "https://www.trthaber.com/haber/ekonomi/bakan-kacir-turkiyenin-ingiltere-ve-avrupaya-katacaklari-cok-fazla-899233.html\n",
            "https://www.trthaber.com/haber/ekonomi/kanada-basbakani-trudeau-abdnin-tarifelerine-karsi-guclu-yanit-vereceklerini-soyledi-899221.html\n",
            "https://www.trthaber.com/haber/ekonomi/kanada-basbakani-trudeau-abdnin-tarifelerine-karsi-guclu-yanit-vereceklerini-soyledi-899221.html\n",
            "https://www.trthaber.com/haber/ekonomi/kanada-basbakani-trudeau-abdnin-tarifelerine-karsi-guclu-yanit-vereceklerini-soyledi-899221.html\n",
            "https://www.trthaber.com/haber/ekonomi/e-kolay-ihracat-platformu-yarin-tanitilacak-899188.html\n",
            "https://www.trthaber.com/haber/ekonomi/e-kolay-ihracat-platformu-yarin-tanitilacak-899188.html\n",
            "https://www.trthaber.com/haber/ekonomi/e-kolay-ihracat-platformu-yarin-tanitilacak-899188.html\n",
            "https://www.trthaber.com/haber/ekonomi/merkez-bankasi-rezervleri-170-milyar-dolar-oldu-899178.html\n",
            "https://www.trthaber.com/haber/ekonomi/merkez-bankasi-rezervleri-170-milyar-dolar-oldu-899178.html\n",
            "https://www.trthaber.com/haber/ekonomi/merkez-bankasi-rezervleri-170-milyar-dolar-oldu-899178.html\n",
            "https://www.trthaber.com/haber/ekonomi/kkm-bakiyelerindeki-dusus-suruyor-899176.html\n",
            "https://www.trthaber.com/haber/ekonomi/kkm-bakiyelerindeki-dusus-suruyor-899176.html\n",
            "https://www.trthaber.com/haber/ekonomi/kkm-bakiyelerindeki-dusus-suruyor-899176.html\n",
            "https://www.trthaber.com/haber/ekonomi/bakan-ersoy-turizmin-buyumesi-ulasim-alaninda-gelisimi-zorunlu-hale-getirmektedir-899177.html\n",
            "https://www.trthaber.com/haber/ekonomi/bakan-ersoy-turizmin-buyumesi-ulasim-alaninda-gelisimi-zorunlu-hale-getirmektedir-899177.html\n",
            "https://www.trthaber.com/haber/ekonomi/bakan-ersoy-turizmin-buyumesi-ulasim-alaninda-gelisimi-zorunlu-hale-getirmektedir-899177.html\n",
            "https://www.trthaber.com/haber/ekonomi/tubitak-girisimci-adaylarina-900-bin-lira-yatirim-destegi-saglayacak-899153.html\n",
            "https://www.trthaber.com/haber/ekonomi/tubitak-girisimci-adaylarina-900-bin-lira-yatirim-destegi-saglayacak-899153.html\n",
            "https://www.trthaber.com/haber/ekonomi/tubitak-girisimci-adaylarina-900-bin-lira-yatirim-destegi-saglayacak-899153.html\n",
            "https://www.trthaber.com/haber/ekonomi/turkiyenin-enerji-uretimi-artti-ithalati-dustu-899150.html\n",
            "https://www.trthaber.com/haber/ekonomi/turkiyenin-enerji-uretimi-artti-ithalati-dustu-899150.html\n",
            "https://www.trthaber.com/haber/ekonomi/turkiyenin-enerji-uretimi-artti-ithalati-dustu-899150.html\n",
            "https://www.trthaber.com/haber/ekonomi/aselsandan-296-milyon-euroluk-sozlesme-899147.html\n",
            "https://www.trthaber.com/haber/ekonomi/aselsandan-296-milyon-euroluk-sozlesme-899147.html\n",
            "https://www.trthaber.com/haber/ekonomi/aselsandan-296-milyon-euroluk-sozlesme-899147.html\n",
            "https://www.trthaber.com/haber/ekonomi/online-bireysel-kurslar-ve-urun-tanitim-hizmetlerinde-kdv-istisnasi-899140.html\n",
            "https://www.trthaber.com/haber/ekonomi/online-bireysel-kurslar-ve-urun-tanitim-hizmetlerinde-kdv-istisnasi-899140.html\n",
            "https://www.trthaber.com/haber/ekonomi/online-bireysel-kurslar-ve-urun-tanitim-hizmetlerinde-kdv-istisnasi-899140.html\n"
          ]
        }
      ]
    },
    {
      "cell_type": "markdown",
      "source": [
        "## CNN Haber"
      ],
      "metadata": {
        "id": "ld2Q390YgPSS"
      }
    },
    {
      "cell_type": "code",
      "source": [
        "# Parse the HTML content\n",
        "soup = BeautifulSoup(cnnhaber, 'html.parser')\n",
        "\n",
        "# Find all <a> tags\n",
        "all_links = soup.find_all('a', class_=\"navigate\", href=True)\n",
        "\n",
        "# Filter links that match the specific pattern\n",
        "filtered_links = [link for link in all_links if link['href'].startswith(\"/ekonomi/\")]\n",
        "\n",
        "# Print the filtered links\n",
        "for link in filtered_links:\n",
        "    print(link['href'])"
      ],
      "metadata": {
        "colab": {
          "base_uri": "https://localhost:8080/"
        },
        "id": "HAv65Gp2e8mm",
        "outputId": "ad7f7be3-f145-49a2-c71f-d764d778d303"
      },
      "execution_count": 23,
      "outputs": [
        {
          "output_type": "stream",
          "name": "stdout",
          "text": [
            "/ekonomi/son-dakika-bugunku-super-loto-cekilisi-sonuclari-belli-oldu-27-subat-2025-super-loto-bilet-sonucu-sorgulama-ekrani-2247399\n",
            "/ekonomi/son-dakika-borsa-gunu-yukselisle-tamamladi-2247254\n",
            "/ekonomi/arastirma-sonucu-kobiler-dijital-donusumu-hizlandirdi-2247246\n",
            "/ekonomi/abden-abdye-gumruk-tarifesi-uyarisi-2247205\n",
            "/ekonomi/abd-buyume-rakamlari-belli-oldu-2247198\n",
            "/ekonomi/kur-korumali-mevduatta-dusus-suruyor-kkm-bakiyesi-879-milyar-tlye-geriledi-2247190\n",
            "/ekonomi/2025-engelli-arac-otv-limiti-ne-kadar-oldu-otv-muafiyeti-ile-alinabilecek-otomobillerin-listesi-2220903\n",
            "/ekonomi/ihracatci-kadin-girisimcilere-yesil-pasaport-kolayligi-cagrisi-2247154\n",
            "/ekonomi/londra-borsasinda-gong-turkiye-varlik-fonunun-rekor-taleple-tamamlanan-sukuk-ihraci-icin-caldi-2247147\n",
            "/ekonomi/600-binden-fazla-kamu-iscisinin-bekledigi-haber-kamu-iscileri-zam-taleplerini-acikladi-2247124\n",
            "/ekonomi/atmlerde-yuzu-gorunmeyene-para-yok-ayrica-patates-hat-onlemi-geliyor-2246280\n",
            "/ekonomi/cilgin-sayisal-lotoda-rekor-ikramiye-627-milyon-tlyi-asti-2245787\n",
            "/ekonomi/merkez-bankasi-guncel-rezervlerini-acikladi-2247123\n",
            "/ekonomi/euro-bolgesinde-ekonomik-guven-subat-2025te-yukseldi-2247111\n",
            "/ekonomi/turkcellin-30-yil-cekilisinin-kazananlari-odullerine-kavustu-2247069\n",
            "/ekonomi/ticaret-bakanligi-ramazan-oncesi-firin-ve-market-denetimlerine-devam-ediyor-2247061\n",
            "/ekonomi/galeri/emekli-promosyonu-2025-subat-guncel-emekli-promosyonlari-en-yuksek-odeme-yapan-bankalar-hangileri-2247002\n",
            "/ekonomi/turkiye-enerji-uretimini-artirarak-ithalati-azaltti-2246996\n",
            "/ekonomi/motorine-buyuk-indirim-akaryakitta-tabela-bir-kez-daha-degisti-2246955\n",
            "/ekonomi/galeri/son-dakika-emeklilik-haberi-sgkdan-5-yil-erken-emeklilik-firsati-kimler-yararlanabilir-2246935\n",
            "/ekonomi/ocak-2025-turkiye-ihracat-ve-ithalat-verileri-aciklandi-2246933\n",
            "/ekonomi/bogrum-agriyoru-yapay-zeka-cozecek-2246922\n",
            "/ekonomi/ekonomik-guven-endeksi-subat-ayinda-yukseldi-2246918\n",
            "/ekonomi/borsa-istanbul-gune-dususle-basladi-bist-100-endeksi-9-565-61-puanda-2246872\n",
            "/ekonomi/galeri/a101-27-subat-persembe-aktuel-katalogu-bu-hafta-a101de-neler-indirimde-beyaz-esya-elektronik-ramazan-kolileri-2245293\n",
            "/ekonomi/altin/altin-fiyatlari-27-subat-gram-altin-ceyrek-altin-guncel-fiyatlari-ne-kadar-altinda-dusus-devam-ediyor-2235802\n",
            "/ekonomi/galeri/2025te-yatirim-firsati-sunan-10-trend-girisim-2246836\n",
            "/ekonomi/kuresel-piyasalar-abd-verilerine-odaklandi-trumpin-tarifeleri-ve-nvidianin-sonuclari-piyasalara-yon-veriyor-2246852\n",
            "/ekonomi/galeri/gidada-taklit-ve-tagsis-bakanlik-sahte-urunleri-aciklamaya-devam-ediyor-2246842\n",
            "/ekonomi/galeri/turkiye-saglik-verileri-kisi-basina-hekime-muracaat-sayisi-11-4e-ulasti-2246822\n",
            "/ekonomi/galeri/konut-kredisi-faizleri-dusuyor-mu-iste-en-guncel-oranlar-ve-odeme-detaylari-2246814\n"
          ]
        }
      ]
    },
    {
      "cell_type": "markdown",
      "source": [
        "## Bloomberg HT"
      ],
      "metadata": {
        "id": "87gxL4bJrFzD"
      }
    },
    {
      "cell_type": "code",
      "source": [
        "# Parse the HTML content\n",
        "soup = BeautifulSoup(bloomberght, 'html.parser')\n",
        "\n",
        "# Find all <a> tags\n",
        "all_links = soup.find_all('a', href=True)\n",
        "\n",
        "# Filter links ending with a number\n",
        "filtered_links = [link['href'] for link in all_links if re.search(r'\\d$', link['href'])]\n",
        "\n",
        "# Print the filtered links\n",
        "for link in filtered_links:\n",
        "    print(link)"
      ],
      "metadata": {
        "colab": {
          "base_uri": "https://localhost:8080/"
        },
        "id": "1TwTn0ztrFa1",
        "outputId": "961fdd73-6e64-444d-8284-89075f2f0226"
      },
      "execution_count": 24,
      "outputs": [
        {
          "output_type": "stream",
          "name": "stdout",
          "text": [
            "/spkden-4-sirketin-borclanma-araci-ihracina-onay-3742749\n",
            "/cevdet-yilmaz-londra-da-uluslararasi-yatirimcilarla-bir-araya-geldi-3742740\n",
            "/doviz-mevduatlarinda-1-5-yilin-en-hizli-artisi-3742705\n",
            "/arac-muayenelerinde-ucretsiz-cagir-merkezi-geliyor-3742492\n",
            "/yapi-kredi-yatirim-dan-2025-hisse-strateji-raporu-3742403\n",
            "/arac-muayene-istasyonlarinin-ozellestirme-ihaleleri-basladi-3742402\n",
            "/aselsan-bmc-ile-yeni-sozlesme-imzaladi-3742401\n",
            "/yapi-kredi-dolar-cinsi-tahvil-ihrac-ediyor-3742361\n",
            "/sektorel-guven-hizmet-ve-insaatta-azaldi-3742328\n",
            "/ocak-ayinda-kredi-karti-sayisi-yuzde-9-artti-3742231\n",
            "/turkiye-de-tasarruf-yapanlarin-ilk-tercihi-altin-3742227\n",
            "/finansal-hizmetler-guven-endeksi-yukseldi-3742215\n",
            "/cevdet-yilmaz-dan-merkez-bankasi-rezervlerine-iliskin-aciklama-3742162\n",
            "/turkiye-deki-startup-yatirimlari-rekor-seviyeye-ulasti-3742136\n",
            "/yabanci-para-mevduatlarda-artis-suruyor-3742134\n",
            "/turkiye-katar-ile-isbirligi-protokolu-imzaladi-3742117\n",
            "/turkiye-sigorta-ve-ptt-as-guclerini-birlestirdi-3742110\n",
            "/turkiye-nin-yurt-disi-varliklarinda-yeni-zirve-3742104\n",
            "/mia-teknoloji-cinli-ortagi-ile-turkiye-de-yatirima-gidecek-3742039\n",
            "/orta-gelirli-vatandasa-yonelik-konut-kampanyasi-3741908\n",
            "/ziraat-bankasinin-aktif-buyuklugu-5-4-trilyon-tlyi-asti-3741900\n",
            "/ozel-sektorun-kredi-borcu-artti-3741877\n",
            "/konut-fiyat-endeksi-ocak-ta-reel-olarak-yuzde-7-2-azaldi-3741874\n",
            "/julius-baer-turk-hisselerini-tercih-etmiyor-3741864\n",
            "/asya-altyapi-yatirim-bankasi-ndan-turkiye-ye-5-milyar-dolar-finansman-3741810\n",
            "/bloomberg-ht-tuketici-guven-on-endeksi-subat-ta-tekrar-yukselise-gecti-3741788\n",
            "/tcmb-baskani-fatih-karahan-tcmb-nin-mevcut-faiz-indirim-surecinde-ortaya-cikabilecek-risklere-karsi-harekete-3741761\n",
            "/calisan-annelere-bakici-destegi-artirildi-3741758\n",
            "/tmsf-den-kayyum-aciklamasi-3741757\n",
            "/turkiye-nin-otomotiv-ihracati-yeni-yila-rekorla-basladi-3741756\n",
            "/ticaret-bakani-bolat-2028-ihracat-hedefini-acikladi-3741749\n",
            "/7-baslikla-gecen-hafta-3741740\n",
            "/bakan-simsek-munih-te-yatirimcilarla-bulusacak-3741653\n",
            "/sabanci-8-sirketiyle-cdp-kuresel-liderler-listesinde-yer-aldi-3741576\n",
            "/doviz-mevduatlarinda-yerel-secimlerden-beri-en-hizli-artis-3741568\n",
            "/kkm-hesap-bakiyelerindeki-dusus-devam-ediyor-3741565\n",
            "/turkiye-perakende-sektoru-buyuklugunun-2025-te-yuzde-35-40-buyuyerek-13-trilyon-lirayi-asmasi-bekleniyor-3741561\n",
            "/tusiad-baskani-turan-enflasyonla-mucadelenin-hizlanmasi-gerekiyor-3741548\n",
            "/fitch-turk-katilim-bankalarin-pazar-paylari-geriledi-3741444\n",
            "/tusiadturan-ticaret-savaslarindan-avantajli-cikabiliriz-3741441\n",
            "/baykar-fabrika-ortakligi-ile-endonezya-ya-giriyor-3741436\n",
            "/tcmbkarahan-siki-para-politikasi-durusu-surdurulecek-3741399\n",
            "/jpmorgan-turk-sirket-tahvilleri-icin-2024e-gore-daha-iyimser-3741362\n",
            "/trumpin-celik-ve-aluminyum-vergileri-turkiyeye-etkisi-ne-olacak-3741322\n",
            "/kalyon-gunes-teknolojileri-nin-halka-arz-buyuklugu-belli-oldu-3741295\n",
            "/sisecam-italya-daki-tesisinde-bazi-hatlari-tamire-aliyor-3741165\n",
            "/qnb-turkiye-ilk-yurtici-surdurulebilir-bonosunu-ihrac-etti-3741092\n",
            "/ontex-grup-turkiye-deki-operasyonunu-devretme-karari-aldi-3741088\n"
          ]
        }
      ]
    },
    {
      "cell_type": "markdown",
      "source": [
        "## Bigpara"
      ],
      "metadata": {
        "id": "NLq8YbpHtsL1"
      }
    },
    {
      "cell_type": "code",
      "source": [
        "# Parse the HTML content\n",
        "soup = BeautifulSoup(bigpara, 'html.parser')\n",
        "\n",
        "# Find all <a> tags\n",
        "all_links = soup.find_all('a', {'data-query-param': \"bpc\", 'href': True})\n",
        "\n",
        "# Filter links ending with a number\n",
        "filtered_links = [link for link in all_links if link['href'].startswith(\"/haberler/ekonomi-haberleri/\")]\n",
        "\n",
        "# Print the filtered links\n",
        "for link in filtered_links:\n",
        "    print(link)"
      ],
      "metadata": {
        "colab": {
          "base_uri": "https://localhost:8080/"
        },
        "id": "wlTubYIetuhp",
        "outputId": "a322314f-c2f3-48bc-fecb-2838b0640654"
      },
      "execution_count": 32,
      "outputs": [
        {
          "output_type": "stream",
          "name": "stdout",
          "text": [
            "<a data-news-id=\"1608291\" data-query-param=\"bpc\" href=\"/haberler/ekonomi-haberleri/bakan-simsekten-buyume-yorumu-temellerimizi-saglamlastirdik_ID1608291/\">Bakan Şimşek'ten büyüme yorumu: Temellerimizi sağlamlaştırdık</a>\n",
            "<a data-news-id=\"1608279\" data-query-param=\"bpc\" href=\"/haberler/ekonomi-haberleri/son-dakika-issizlik-rakamlari-belli-oldu_ID1608279/\">Son dakika... İşsizlik rakamları belli oldu</a>\n",
            "<a data-news-id=\"1608278\" data-query-param=\"bpc\" href=\"/haberler/ekonomi-haberleri/son-dakika-turkiye-ekonomisi-yuzde-buyudu_ID1608278/\">Son dakika... Türkiye ekonomisi yüzde 3.2 büyüdü</a>\n",
            "<a data-news-id=\"1608263\" data-query-param=\"bpc\" href=\"/haberler/ekonomi-haberleri/imf-baskanindan-ekonomi-icin-korkutan-aciklama_ID1608263/\">IMF Başkanı'ndan ekonomi için korkutan açıklama</a>\n",
            "<a data-news-id=\"1608260\" data-query-param=\"bpc\" href=\"/haberler/ekonomi-haberleri/kanada-abd-tarifelerine-boyun-egmeyecek_ID1608260/\">Kanada, ABD tarifelerine boyun eğmeyecek</a>\n",
            "<a data-news-id=\"1608258\" data-query-param=\"bpc\" href=\"/haberler/ekonomi-haberleri/konutta-fiyat-bilmecesi-hatali-fiyat-magdur-ediyor_ID1608258/\">Konutta fiyat bilmecesi... Hatalı fiyat mağdur ediyor</a>\n",
            "<a data-news-id=\"1608257\" data-query-param=\"bpc\" href=\"/haberler/ekonomi-haberleri/33-bin-lirayi-asanlar-beyanname-verecek-kira-gelirinde-beyan-donemi_ID1608257/\">33 bin lirayı aşanlar beyanname verecek... Kira gelirinde beyan dönemi</a>\n",
            "<a data-news-id=\"1608256\" data-query-param=\"bpc\" href=\"/haberler/ekonomi-haberleri/tvfnin-sukuk-ihracina-londrada-gong-toreni_ID1608256/\">TVF’nin sukuk ihracına Londra’da gong töreni</a>\n",
            "<a data-news-id=\"1608255\" data-query-param=\"bpc\" href=\"/haberler/ekonomi-haberleri/sazan-sarmali-gayrimenkule-sicradi_ID1608255/\">Sazan sarmalı gayrimenkule sıçradı</a>\n",
            "<a data-news-id=\"1608254\" data-query-param=\"bpc\" href=\"/haberler/ekonomi-haberleri/kultur-ve-turizm-bakan-yardimcisi-isyan-etti-8-bin-kayit-disi-turizm-tesisi-var_ID1608254/\">Kültür ve Turizm Bakan Yardımcısı isyan etti: 8 bin kayıt dışı turizm tesisi var</a>\n",
            "<a data-news-id=\"1608253\" data-query-param=\"bpc\" href=\"/haberler/ekonomi-haberleri/muadil-urune-tasarruf-dopingi_ID1608253/\">Muadil ürüne ‘tasarruf’ dopingi</a>\n",
            "<a data-news-id=\"1608252\" data-query-param=\"bpc\" href=\"/haberler/ekonomi-haberleri/en-belirgin-yavaslama-lukste_ID1608252/\">‘En belirgin yavaşlama lükste’</a>\n",
            "<a data-news-id=\"1608251\" data-query-param=\"bpc\" href=\"/haberler/ekonomi-haberleri/kamu-iscisi-icin-zam-talebi-belli-oldu_ID1608251/\">Kamu işçisi için zam talebi belli oldu</a>\n",
            "<a data-news-id=\"1608250\" data-query-param=\"bpc\" href=\"/haberler/ekonomi-haberleri/30uncu-yilinda-togg-hediye-etti_ID1608250/\">30’uncu yılında Togg hediye etti</a>\n",
            "<a data-news-id=\"1608249\" data-query-param=\"bpc\" href=\"/haberler/ekonomi-haberleri/ilk-luks-outlet-2026-yazini-bekliyor_ID1608249/\">İlk lüks outlet 2026 yazını bekliyor</a>\n",
            "<a data-news-id=\"1608248\" data-query-param=\"bpc\" href=\"/haberler/ekonomi-haberleri/arastirma-sonucu-kobiler-dijital-donusumu-hizlandirdi_ID1608248/\">Araştırma sonucu: KOBİ’ler dijital dönüşümü hızlandırdı</a>\n",
            "<a data-news-id=\"1608244\" data-query-param=\"bpc\" href=\"/haberler/ekonomi-haberleri/abd-buyume-rakamlari-aciklandi_ID1608244/\">ABD büyüme rakamları açıklandı</a>\n",
            "<a data-news-id=\"1608236\" data-query-param=\"bpc\" href=\"/haberler/ekonomi-haberleri/kredi-mevduat-artti-kredi-karti-harcamalari-dustu_ID1608236/\">Kredi ve mevduat arttı, kredi kartı harcamaları düştü</a>\n",
            "<a data-news-id=\"1608232\" data-query-param=\"bpc\" href=\"/haberler/ekonomi-haberleri/son-dakika-merkez-bankasinin-rezervleri-dustu_ID1608232/\">Son dakika... Merkez Bankası'nın rezervleri düştü</a>\n",
            "<a data-news-id=\"1608231\" data-query-param=\"bpc\" href=\"/haberler/ekonomi-haberleri/kkmde-dusus-devam-ediyor_ID1608231/\">KKM'de düşüş devam ediyor</a>\n",
            "<a data-news-id=\"1608228\" data-query-param=\"bpc\" href=\"/haberler/ekonomi-haberleri/bakan-simsek-alman-mevkidasiyla-bir-araya-geldi_ID1608228/\">Bakan Şimşek, Alman mevkidaşıyla bir araya geldi</a>\n",
            "<a data-news-id=\"1608222\" data-query-param=\"bpc\" href=\"/haberler/ekonomi-haberleri/aselsandan-296-milyon-euroluk-yeni-sozlesme_ID1608222/\">ASELSAN'dan 296 milyon euroluk yeni sözleşme</a>\n",
            "<a data-news-id=\"1608217\" data-query-param=\"bpc\" href=\"/haberler/ekonomi-haberleri/asyada-endeksler-karisik-seyirde_ID1608217/\">Asya'da endeksler karışık seyirde</a>\n"
          ]
        }
      ]
    },
    {
      "cell_type": "code",
      "source": [
        "# Parse the HTML content\n",
        "soup = BeautifulSoup(bigpara, 'html.parser')\n",
        "\n",
        "for ul_tag in soup.find_all('ul'):\n",
        "    # Extract href\n",
        "    href_tag = ul_tag.find('a', href=True)\n",
        "    href = href_tag['href'] if href_tag else None  # Handle if href not found\n",
        "\n",
        "    # Extract date and time\n",
        "    date_tag = ul_tag.find('li', class_='cell012')\n",
        "    date = date_tag.text if date_tag else None  # Handle if date not found\n",
        "\n",
        "    time_tag = ul_tag.find('li', class_='cell024')\n",
        "    time = time_tag.text if time_tag else None  # Handle if time not found\n",
        "\n",
        "    if href and date and time:  # Print only if all elements found\n",
        "        print(f\"Href: {href}\")\n",
        "        print(f\"Date: {date}\")\n",
        "        print(f\"Time: {time}\")\n",
        "        print(\"-\" * 20)"
      ],
      "metadata": {
        "colab": {
          "base_uri": "https://localhost:8080/"
        },
        "id": "RZCPzExEwd4p",
        "outputId": "bf0d0106-6981-4495-f5d8-19175a352f9a"
      },
      "execution_count": 37,
      "outputs": [
        {
          "output_type": "stream",
          "name": "stdout",
          "text": [
            "Href: /haberler/ekonomi-haberleri/bakan-simsekten-buyume-yorumu-temellerimizi-saglamlastirdik_ID1608291/\n",
            "Date: 28.2.2025\n",
            "Time: 11:10\n",
            "--------------------\n",
            "Href: /ekonomi-haberleri/galeri-fidye-ne-kadar-2025-ne-zaman-verilir-fidye-kimlere-verilir-kimlere-verilmez-diyanet-fidye-ve-fitre-2025-bedeli_ID1608282/\n",
            "Date: 28.2.2025\n",
            "Time: 10:26\n",
            "--------------------\n",
            "Href: /haberler/ekonomi-haberleri/son-dakika-issizlik-rakamlari-belli-oldu_ID1608279/\n",
            "Date: 28.2.2025\n",
            "Time: 10:00\n",
            "--------------------\n",
            "Href: /haberler/ekonomi-haberleri/son-dakika-turkiye-ekonomisi-yuzde-buyudu_ID1608278/\n",
            "Date: 28.2.2025\n",
            "Time: 10:00\n",
            "--------------------\n",
            "Href: /haberler/ekonomi-haberleri/imf-baskanindan-ekonomi-icin-korkutan-aciklama_ID1608263/\n",
            "Date: 28.2.2025\n",
            "Time: 07:02\n",
            "--------------------\n",
            "Href: /haberler/ekonomi-haberleri/kanada-abd-tarifelerine-boyun-egmeyecek_ID1608260/\n",
            "Date: 28.2.2025\n",
            "Time: 06:48\n",
            "--------------------\n",
            "Href: /haberler/ekonomi-haberleri/konutta-fiyat-bilmecesi-hatali-fiyat-magdur-ediyor_ID1608258/\n",
            "Date: 28.2.2025\n",
            "Time: 07:00\n",
            "--------------------\n",
            "Href: /haberler/ekonomi-haberleri/33-bin-lirayi-asanlar-beyanname-verecek-kira-gelirinde-beyan-donemi_ID1608257/\n",
            "Date: 28.2.2025\n",
            "Time: 07:00\n",
            "--------------------\n",
            "Href: /haberler/ekonomi-haberleri/tvfnin-sukuk-ihracina-londrada-gong-toreni_ID1608256/\n",
            "Date: 28.2.2025\n",
            "Time: 07:00\n",
            "--------------------\n",
            "Href: /haberler/ekonomi-haberleri/sazan-sarmali-gayrimenkule-sicradi_ID1608255/\n",
            "Date: 28.2.2025\n",
            "Time: 07:00\n",
            "--------------------\n",
            "Href: /haberler/ekonomi-haberleri/kultur-ve-turizm-bakan-yardimcisi-isyan-etti-8-bin-kayit-disi-turizm-tesisi-var_ID1608254/\n",
            "Date: 28.2.2025\n",
            "Time: 07:00\n",
            "--------------------\n",
            "Href: /haberler/ekonomi-haberleri/muadil-urune-tasarruf-dopingi_ID1608253/\n",
            "Date: 28.2.2025\n",
            "Time: 07:00\n",
            "--------------------\n",
            "Href: /haberler/ekonomi-haberleri/en-belirgin-yavaslama-lukste_ID1608252/\n",
            "Date: 28.2.2025\n",
            "Time: 07:00\n",
            "--------------------\n",
            "Href: /haberler/ekonomi-haberleri/kamu-iscisi-icin-zam-talebi-belli-oldu_ID1608251/\n",
            "Date: 28.2.2025\n",
            "Time: 07:00\n",
            "--------------------\n",
            "Href: /haberler/ekonomi-haberleri/30uncu-yilinda-togg-hediye-etti_ID1608250/\n",
            "Date: 28.2.2025\n",
            "Time: 07:00\n",
            "--------------------\n",
            "Href: /haberler/ekonomi-haberleri/ilk-luks-outlet-2026-yazini-bekliyor_ID1608249/\n",
            "Date: 28.2.2025\n",
            "Time: 07:00\n",
            "--------------------\n",
            "Href: /haberler/ekonomi-haberleri/arastirma-sonucu-kobiler-dijital-donusumu-hizlandirdi_ID1608248/\n",
            "Date: 27.2.2025\n",
            "Time: 18:03\n",
            "--------------------\n",
            "Href: /haberler/ekonomi-haberleri/abd-buyume-rakamlari-aciklandi_ID1608244/\n",
            "Date: 27.2.2025\n",
            "Time: 16:43\n",
            "--------------------\n",
            "Href: /haberler/ekonomi-haberleri/kredi-mevduat-artti-kredi-karti-harcamalari-dustu_ID1608236/\n",
            "Date: 27.2.2025\n",
            "Time: 14:05\n",
            "--------------------\n",
            "Href: /haberler/ekonomi-haberleri/son-dakika-merkez-bankasinin-rezervleri-dustu_ID1608232/\n",
            "Date: 27.2.2025\n",
            "Time: 14:30\n",
            "--------------------\n",
            "Href: /haberler/ekonomi-haberleri/kkmde-dusus-devam-ediyor_ID1608231/\n",
            "Date: 27.2.2025\n",
            "Time: 14:01\n",
            "--------------------\n",
            "Href: /haberler/ekonomi-haberleri/bakan-simsek-alman-mevkidasiyla-bir-araya-geldi_ID1608228/\n",
            "Date: 27.2.2025\n",
            "Time: 12:50\n",
            "--------------------\n",
            "Href: /ekonomi-haberleri/galeri-atmlerde-yuz-tanima-sistemi-var-mi-atmlerde-yuzu-tanimlanamayan-islem-yapamayacak_ID1608225/\n",
            "Date: 27.2.2025\n",
            "Time: 11:38\n",
            "--------------------\n",
            "Href: /haberler/ekonomi-haberleri/aselsandan-296-milyon-euroluk-yeni-sozlesme_ID1608222/\n",
            "Date: 27.2.2025\n",
            "Time: 10:49\n",
            "--------------------\n",
            "Href: /haberler/ekonomi-haberleri/asyada-endeksler-karisik-seyirde_ID1608217/\n",
            "Date: 27.2.2025\n",
            "Time: 10:09\n",
            "--------------------\n"
          ]
        }
      ]
    }
  ]
}